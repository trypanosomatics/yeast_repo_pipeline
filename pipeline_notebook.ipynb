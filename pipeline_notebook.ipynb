{
 "cells": [
  {
   "cell_type": "code",
   "execution_count": 1,
   "id": "a0c47e30",
   "metadata": {},
   "outputs": [
    {
     "data": {
      "text/plain": [
       "<module 'pipeline_functions' from 'C:\\\\Users\\\\Mercedes_IIB-UNSAM\\\\Desktop\\\\2021\\\\pipeline_functions.py'>"
      ]
     },
     "execution_count": 1,
     "metadata": {},
     "output_type": "execute_result"
    }
   ],
   "source": [
    "#Importar todos los modulos necesarios para el analisis\n",
    "import pandas \n",
    "import os\n",
    "import pipeline_functions\n",
    "from importlib import reload # reload \n",
    "reload(pipeline_functions)"
   ]
  },
  {
   "cell_type": "code",
   "execution_count": 2,
   "id": "69b70d77",
   "metadata": {},
   "outputs": [],
   "source": [
    "#Variables a asignar por el usuario\n",
    "path = r'C:\\Users\\Mercedes_IIB-UNSAM\\Desktop\\2021'\n",
    "in_file = 'gene_drug_interaction'"
   ]
  },
  {
   "cell_type": "code",
   "execution_count": 3,
   "id": "ed66a7d1",
   "metadata": {},
   "outputs": [],
   "source": [
    "#Importo el set de datos\n",
    "os.chdir(path)\n",
    "gdi = pandas.read_csv(in_file,sep='\\t')\n",
    "\n",
    "#Datos para genes\n",
    "filtro_genes_1 = pipeline_functions.leer_tabla_columnas(\"yeast.genes.list\",'\\t',['species_code', 'gene_name', 'omcl'])\n",
    "filtro_genes_2 = pipeline_functions.leer_tabla_columnas(\"tryp.genes.list\",'\\t',['species_code', 'gene_name', 'omcl'])\n",
    "filtro_genes_3 = pipeline_functions.leer_tabla_columnas('tbr.essentialOrthologs.list',',')\n",
    "                                     \n",
    "#Datos para compuestos\n",
    "gdi_inchikey = pipeline_functions.smiles_to_inchikey(gdi,'smiles')                               \n",
    "filtro_compuestos_1 = pipeline_functions.leer_tabla_columnas('tested_drugs_inchikey.csv',',')\n",
    "filtro_compuestos_2 = pipeline_functions.leer_tabla_columnas('drug_availability_inchikey.csv',',')\n",
    "\n",
    "#filtro_SEC14 = pipeline_functions.leer_tabla_columnas('GDI_SEC14.tsv','')\n",
    "\n",
    "gdi_inchikey = gdi_inchikey[['orf','inchiKey']]"
   ]
  },
  {
   "cell_type": "markdown",
   "id": "e3aac052",
   "metadata": {},
   "source": [
    "# Filtrado de los genes"
   ]
  },
  {
   "cell_type": "code",
   "execution_count": 4,
   "id": "74c786f9",
   "metadata": {
    "scrolled": true
   },
   "outputs": [],
   "source": [
    "resultado_filtro_genes_1 = pipeline_functions.interseccion_datos(gdi_inchikey,filtro_genes_1,'orf','gene_name',\"OMCL in Yeast\",'orf')\n",
    "resultado_genes_1 = resultado_filtro_genes_1[0]\n",
    "resultado_genes_1 = resultado_genes_1[['gene_name','omcl','inchiKey']]\n",
    "resultado_genes_1 = resultado_genes_1.drop_duplicates()\n",
    "resultado_genes_1 = resultado_genes_1.dropna()"
   ]
  },
  {
   "cell_type": "code",
   "execution_count": 5,
   "id": "79945ee4",
   "metadata": {},
   "outputs": [],
   "source": [
    "resultado_filtro_genes_2 = pipeline_functions.interseccion_datos(resultado_genes_1 ,filtro_genes_2,'omcl','omcl',\"OMCL in Tryps\", \"omcl\")\n",
    "resultado_genes_2 = resultado_filtro_genes_2[0]\n",
    "resultado_genes_2 = resultado_genes_2[['gene_name_y','omcl','inchiKey']]\n",
    "resultado_genes_2 = resultado_genes_2.drop_duplicates()\n",
    "resultado_genes_2 = resultado_genes_2.dropna()"
   ]
  },
  {
   "cell_type": "code",
   "execution_count": 6,
   "id": "733ba317",
   "metadata": {
    "scrolled": true
   },
   "outputs": [],
   "source": [
    "resultado_filtro_genes_3 = pipeline_functions.interseccion_datos(resultado_genes_2,filtro_genes_3,'omcl','omcl',\"Essentiality\", \"omcl\")\n",
    "resultado_genes_3 = resultado_filtro_genes_2[0]"
   ]
  },
  {
   "cell_type": "code",
   "execution_count": 7,
   "id": "60cc0d90",
   "metadata": {},
   "outputs": [],
   "source": [
    "#Cuento los genes para seleccionar según promiscuidad\n",
    "umbral=200\n",
    "genes_count = resultado_filtro_genes_3[0].groupby('gene_name_y').nunique()\n",
    "genes_count = genes_count.sort_values(by=['inchiKey'])\n",
    "genes_count = genes_count[genes_count['inchiKey']<umbral]\n",
    "genes_count = genes_count.unstack(level=-1).reset_index().drop('level_0', axis=1)\n",
    "genes_count = genes_count.drop_duplicates()\n",
    "gene_selection = pandas.merge(left=gdi_inchikey,right=genes_count,how=\"inner\",left_on=['orf'], right_on=['gene_name_y'])\n",
    "gene_selection = gene_selection[['orf','inchiKey']]"
   ]
  },
  {
   "cell_type": "code",
   "execution_count": 8,
   "id": "fccc1849",
   "metadata": {},
   "outputs": [
    {
     "data": {
      "text/html": [
       "<div>\n",
       "<style scoped>\n",
       "    .dataframe tbody tr th:only-of-type {\n",
       "        vertical-align: middle;\n",
       "    }\n",
       "\n",
       "    .dataframe tbody tr th {\n",
       "        vertical-align: top;\n",
       "    }\n",
       "\n",
       "    .dataframe thead th {\n",
       "        text-align: right;\n",
       "    }\n",
       "</style>\n",
       "<table border=\"1\" class=\"dataframe\">\n",
       "  <thead>\n",
       "    <tr style=\"text-align: right;\">\n",
       "      <th></th>\n",
       "      <th>gene_name_y</th>\n",
       "      <th>0</th>\n",
       "    </tr>\n",
       "  </thead>\n",
       "  <tbody>\n",
       "    <tr>\n",
       "      <th>0</th>\n",
       "      <td>YDR424C</td>\n",
       "      <td>1</td>\n",
       "    </tr>\n",
       "    <tr>\n",
       "      <th>1</th>\n",
       "      <td>YPL217C</td>\n",
       "      <td>1</td>\n",
       "    </tr>\n",
       "    <tr>\n",
       "      <th>2</th>\n",
       "      <td>YGR037C</td>\n",
       "      <td>1</td>\n",
       "    </tr>\n",
       "    <tr>\n",
       "      <th>3</th>\n",
       "      <td>YDR447C</td>\n",
       "      <td>1</td>\n",
       "    </tr>\n",
       "    <tr>\n",
       "      <th>4</th>\n",
       "      <td>YKL172W</td>\n",
       "      <td>1</td>\n",
       "    </tr>\n",
       "    <tr>\n",
       "      <th>...</th>\n",
       "      <td>...</td>\n",
       "      <td>...</td>\n",
       "    </tr>\n",
       "    <tr>\n",
       "      <th>1987</th>\n",
       "      <td>YKL203C</td>\n",
       "      <td>181</td>\n",
       "    </tr>\n",
       "    <tr>\n",
       "      <th>1988</th>\n",
       "      <td>YPL273W</td>\n",
       "      <td>190</td>\n",
       "    </tr>\n",
       "    <tr>\n",
       "      <th>1989</th>\n",
       "      <td>YOR265W</td>\n",
       "      <td>197</td>\n",
       "    </tr>\n",
       "    <tr>\n",
       "      <th>1990</th>\n",
       "      <td>YPL240C</td>\n",
       "      <td>198</td>\n",
       "    </tr>\n",
       "    <tr>\n",
       "      <th>1991</th>\n",
       "      <td>YAL035W</td>\n",
       "      <td>198</td>\n",
       "    </tr>\n",
       "  </tbody>\n",
       "</table>\n",
       "<p>1981 rows × 2 columns</p>\n",
       "</div>"
      ],
      "text/plain": [
       "     gene_name_y    0\n",
       "0        YDR424C    1\n",
       "1        YPL217C    1\n",
       "2        YGR037C    1\n",
       "3        YDR447C    1\n",
       "4        YKL172W    1\n",
       "...          ...  ...\n",
       "1987     YKL203C  181\n",
       "1988     YPL273W  190\n",
       "1989     YOR265W  197\n",
       "1990     YPL240C  198\n",
       "1991     YAL035W  198\n",
       "\n",
       "[1981 rows x 2 columns]"
      ]
     },
     "execution_count": 8,
     "metadata": {},
     "output_type": "execute_result"
    }
   ],
   "source": [
    "genes_count"
   ]
  },
  {
   "cell_type": "code",
   "execution_count": 9,
   "id": "afda1316",
   "metadata": {},
   "outputs": [],
   "source": [
    "not_selected_genes = pandas.concat([resultado_filtro_genes_1[1], resultado_filtro_genes_2[1], resultado_filtro_genes_3[1]], ignore_index=False)"
   ]
  },
  {
   "cell_type": "markdown",
   "id": "9998bf9d",
   "metadata": {},
   "source": [
    "# Análisis de los filtros de genes"
   ]
  },
  {
   "cell_type": "code",
   "execution_count": 10,
   "id": "bce2991f",
   "metadata": {},
   "outputs": [],
   "source": [
    "resultados_1 = pipeline_functions.interseccion_datos(gdi_inchikey,resultado_genes_1,'orf','gene_name','Merged data','orf')"
   ]
  },
  {
   "cell_type": "code",
   "execution_count": 11,
   "id": "2aa29942",
   "metadata": {},
   "outputs": [],
   "source": [
    "resultados_1 = resultados_1[0]\n",
    "resultados_1 = resultados_1[['gene_name','omcl','inchiKey_y']]\n",
    "resultados_1 = resultados_1.drop_duplicates()\n",
    "resultados_1 = resultados_1.dropna()"
   ]
  },
  {
   "cell_type": "code",
   "execution_count": 12,
   "id": "26f8623e",
   "metadata": {},
   "outputs": [
    {
     "name": "stdout",
     "output_type": "stream",
     "text": [
      "5008\n",
      "2761\n"
     ]
    }
   ],
   "source": [
    "resultados_1\n",
    "print(len(resultados_1['gene_name'].unique()))\n",
    "print(len(resultados_1['inchiKey_y'].unique()))"
   ]
  },
  {
   "cell_type": "code",
   "execution_count": 13,
   "id": "f1e2abcd",
   "metadata": {},
   "outputs": [],
   "source": [
    "resultados_2 = pipeline_functions.interseccion_datos(gdi_inchikey,resultado_genes_2,'orf','gene_name_y','Merged data','orf')"
   ]
  },
  {
   "cell_type": "code",
   "execution_count": 14,
   "id": "ec1aada4",
   "metadata": {},
   "outputs": [
    {
     "data": {
      "text/plain": [
       "(         gene_name_y        omcl                   inchiKey_x      orf  \\\n",
       " 0            YGL084C  OG5_128109  GHASVSINZRGABV-UHFFFAOYSA-N  YGL084C   \n",
       " 1            YGL084C  OG5_128109  GHASVSINZRGABV-UHFFFAOYSA-N  YGL084C   \n",
       " 2            YGL084C  OG5_128109  GHASVSINZRGABV-UHFFFAOYSA-N  YGL084C   \n",
       " 3            YGL084C  OG5_128109  GHASVSINZRGABV-UHFFFAOYSA-N  YGL084C   \n",
       " 4            YGL084C  OG5_128109  GHASVSINZRGABV-UHFFFAOYSA-N  YGL084C   \n",
       " ...              ...         ...                          ...      ...   \n",
       " 12538039     YPR058W  OG5_129197  JUVIOZPCNVVQFO-NDXORKPFSA-N  YPR058W   \n",
       " 12538040     YPR058W  OG5_129197  JUVIOZPCNVVQFO-NDXORKPFSA-N  YPR058W   \n",
       " 12538041     YPR058W  OG5_129197  JUVIOZPCNVVQFO-NDXORKPFSA-N  YPR058W   \n",
       " 12538042     YPR058W  OG5_129197  JUVIOZPCNVVQFO-NDXORKPFSA-N  YPR058W   \n",
       " 12538043     YPR058W  OG5_129197  JUVIOZPCNVVQFO-NDXORKPFSA-N  YPR058W   \n",
       " \n",
       "                            inchiKey_y  \n",
       " 0         GHASVSINZRGABV-UHFFFAOYSA-N  \n",
       " 1         XUKUURHRXDUEBC-KAYWLYCHSA-N  \n",
       " 2         FQCKMBLVYCEXJB-MNSAWQCASA-L  \n",
       " 3         XUKUURHRXDUEBC-SVBPBHIXSA-N  \n",
       " 4         ARUVKPQLZAKDPS-UHFFFAOYSA-L  \n",
       " ...                               ...  \n",
       " 12538039  OWPCHSCAPHNHAV-QIPOKPRISA-N  \n",
       " 12538040  OWPCHSCAPHNHAV-ZIVUNMQOSA-N  \n",
       " 12538041  JUVIOZPCNVVQFO-UHFFFAOYSA-N  \n",
       " 12538042  JUVIOZPCNVVQFO-HBGVWJBISA-N  \n",
       " 12538043  JUVIOZPCNVVQFO-NDXORKPFSA-N  \n",
       " \n",
       " [12538044 rows x 5 columns],\n",
       "           orf  Filter Name\n",
       " 0     YGR267C  Merged data\n",
       " 1     YOR236W  Merged data\n",
       " 2     YNL256W  Merged data\n",
       " 3     YPL021W  Merged data\n",
       " 4     YNL237W  Merged data\n",
       " ...       ...          ...\n",
       " 4027  YMR168C  Merged data\n",
       " 4028  YDL207W  Merged data\n",
       " 4029      NaN  Merged data\n",
       " 4030  YHR205W  Merged data\n",
       " 4031  YPL051W  Merged data\n",
       " \n",
       " [4032 rows x 2 columns])"
      ]
     },
     "execution_count": 14,
     "metadata": {},
     "output_type": "execute_result"
    }
   ],
   "source": [
    "resultados_2"
   ]
  },
  {
   "cell_type": "code",
   "execution_count": 15,
   "id": "0a9d6c64",
   "metadata": {},
   "outputs": [],
   "source": [
    "resultados_2 = resultados_2[0]\n",
    "resultados_2 = resultados_2[['gene_name_y','omcl','inchiKey_y']]\n",
    "resultados_2 = resultados_2.drop_duplicates()\n",
    "resultados_2 = resultados_2.dropna()"
   ]
  },
  {
   "cell_type": "code",
   "execution_count": 16,
   "id": "101ab5a7",
   "metadata": {},
   "outputs": [
    {
     "name": "stdout",
     "output_type": "stream",
     "text": [
      "1780\n",
      "2405\n"
     ]
    }
   ],
   "source": [
    "resultados_2\n",
    "print(len(resultados_2['gene_name_y'].unique()))\n",
    "print(len(resultados_2['inchiKey_y'].unique()))"
   ]
  },
  {
   "cell_type": "code",
   "execution_count": 17,
   "id": "702c689b",
   "metadata": {},
   "outputs": [],
   "source": [
    "resultados_3 = pipeline_functions.interseccion_datos(gdi_inchikey,resultado_genes_3,'orf','gene_name_y','Merged data','orf')"
   ]
  },
  {
   "cell_type": "code",
   "execution_count": 18,
   "id": "3b7c04db",
   "metadata": {},
   "outputs": [],
   "source": [
    "resultados_3 = resultados_3[0]\n",
    "resultados_3 = resultados_3[['gene_name_y','omcl','inchiKey_y']]\n",
    "resultados_3 = resultados_3.drop_duplicates()\n",
    "resultados_3 = resultados_3.dropna()"
   ]
  },
  {
   "cell_type": "code",
   "execution_count": 19,
   "id": "b5b79c78",
   "metadata": {},
   "outputs": [
    {
     "name": "stdout",
     "output_type": "stream",
     "text": [
      "1780\n",
      "2405\n"
     ]
    }
   ],
   "source": [
    "resultados_3\n",
    "print(len(resultados_3['gene_name_y'].unique()))\n",
    "print(len(resultados_3['inchiKey_y'].unique()))"
   ]
  },
  {
   "cell_type": "code",
   "execution_count": 20,
   "id": "d3522180",
   "metadata": {},
   "outputs": [],
   "source": [
    "resultados_4 = pipeline_functions.interseccion_datos(gdi_inchikey,gene_selection,'orf','orf','Merged data','orf')"
   ]
  },
  {
   "cell_type": "code",
   "execution_count": 21,
   "id": "f6f4cd3a",
   "metadata": {},
   "outputs": [],
   "source": [
    "resultados_4 = resultados_4[0]\n",
    "resultados_4 = resultados_4[['orf','inchiKey_y']]\n",
    "resultados_4 = resultados_4.drop_duplicates()\n",
    "resultados_4 = resultados_4.dropna()"
   ]
  },
  {
   "cell_type": "code",
   "execution_count": 22,
   "id": "74888890",
   "metadata": {},
   "outputs": [
    {
     "name": "stdout",
     "output_type": "stream",
     "text": [
      "39631\n",
      "996\n",
      "1326\n"
     ]
    }
   ],
   "source": [
    "print(len(resultados_4))\n",
    "print(len(resultados_4['orf'].unique()))\n",
    "print(len(resultados_4['inchiKey_y'].unique()))"
   ]
  },
  {
   "cell_type": "code",
   "execution_count": 23,
   "id": "efaf8652",
   "metadata": {},
   "outputs": [
    {
     "data": {
      "text/html": [
       "<div>\n",
       "<style scoped>\n",
       "    .dataframe tbody tr th:only-of-type {\n",
       "        vertical-align: middle;\n",
       "    }\n",
       "\n",
       "    .dataframe tbody tr th {\n",
       "        vertical-align: top;\n",
       "    }\n",
       "\n",
       "    .dataframe thead th {\n",
       "        text-align: right;\n",
       "    }\n",
       "</style>\n",
       "<table border=\"1\" class=\"dataframe\">\n",
       "  <thead>\n",
       "    <tr style=\"text-align: right;\">\n",
       "      <th></th>\n",
       "      <th>orf</th>\n",
       "      <th>inchiKey_y</th>\n",
       "    </tr>\n",
       "  </thead>\n",
       "  <tbody>\n",
       "    <tr>\n",
       "      <th>0</th>\n",
       "      <td>YOR317W</td>\n",
       "      <td>FBOZXECLQNJBKD-UHFFFAOYSA-N</td>\n",
       "    </tr>\n",
       "    <tr>\n",
       "      <th>1</th>\n",
       "      <td>YOR317W</td>\n",
       "      <td>XRECTZIEBJDKEO-UHFFFAOYSA-N</td>\n",
       "    </tr>\n",
       "    <tr>\n",
       "      <th>2</th>\n",
       "      <td>YOR317W</td>\n",
       "      <td>XTPOJZQDRYWGAK-UHFFFAOYSA-P</td>\n",
       "    </tr>\n",
       "    <tr>\n",
       "      <th>4</th>\n",
       "      <td>YOR317W</td>\n",
       "      <td>ZPFXAOWNKLFJDN-UHFFFAOYSA-N</td>\n",
       "    </tr>\n",
       "    <tr>\n",
       "      <th>5</th>\n",
       "      <td>YOR317W</td>\n",
       "      <td>RYHCACJBKCOBTJ-UHFFFAOYSA-N</td>\n",
       "    </tr>\n",
       "    <tr>\n",
       "      <th>...</th>\n",
       "      <td>...</td>\n",
       "      <td>...</td>\n",
       "    </tr>\n",
       "    <tr>\n",
       "      <th>7755568</th>\n",
       "      <td>YNL067W</td>\n",
       "      <td>FNPHNLNTJNMAEE-UHFFFAOYSA-O</td>\n",
       "    </tr>\n",
       "    <tr>\n",
       "      <th>7755569</th>\n",
       "      <td>YNL067W</td>\n",
       "      <td>CWJSHJJYOPWUGX-UHFFFAOYSA-N</td>\n",
       "    </tr>\n",
       "    <tr>\n",
       "      <th>7755570</th>\n",
       "      <td>YNL067W</td>\n",
       "      <td>IZUPBVBPLAPZRR-UHFFFAOYSA-N</td>\n",
       "    </tr>\n",
       "    <tr>\n",
       "      <th>7755571</th>\n",
       "      <td>YNL067W</td>\n",
       "      <td>VHKXXVVRRDYCIK-UHFFFAOYSA-N</td>\n",
       "    </tr>\n",
       "    <tr>\n",
       "      <th>7755572</th>\n",
       "      <td>YNL067W</td>\n",
       "      <td>IGFHQQFPSIBGKE-UHFFFAOYSA-N</td>\n",
       "    </tr>\n",
       "  </tbody>\n",
       "</table>\n",
       "<p>39631 rows × 2 columns</p>\n",
       "</div>"
      ],
      "text/plain": [
       "             orf                   inchiKey_y\n",
       "0        YOR317W  FBOZXECLQNJBKD-UHFFFAOYSA-N\n",
       "1        YOR317W  XRECTZIEBJDKEO-UHFFFAOYSA-N\n",
       "2        YOR317W  XTPOJZQDRYWGAK-UHFFFAOYSA-P\n",
       "4        YOR317W  ZPFXAOWNKLFJDN-UHFFFAOYSA-N\n",
       "5        YOR317W  RYHCACJBKCOBTJ-UHFFFAOYSA-N\n",
       "...          ...                          ...\n",
       "7755568  YNL067W  FNPHNLNTJNMAEE-UHFFFAOYSA-O\n",
       "7755569  YNL067W  CWJSHJJYOPWUGX-UHFFFAOYSA-N\n",
       "7755570  YNL067W  IZUPBVBPLAPZRR-UHFFFAOYSA-N\n",
       "7755571  YNL067W  VHKXXVVRRDYCIK-UHFFFAOYSA-N\n",
       "7755572  YNL067W  IGFHQQFPSIBGKE-UHFFFAOYSA-N\n",
       "\n",
       "[39631 rows x 2 columns]"
      ]
     },
     "execution_count": 23,
     "metadata": {},
     "output_type": "execute_result"
    }
   ],
   "source": [
    "resultados_4"
   ]
  },
  {
   "cell_type": "code",
   "execution_count": 24,
   "id": "eef810aa",
   "metadata": {},
   "outputs": [],
   "source": [
    "results = pandas.read_csv('missing_list.csv')\n",
    "filtro_genes_1 = pandas.read_csv(\"yeast.genes.list\",sep='\\t')\n",
    "filtro_genes_2 = pandas.read_csv(\"tryp.genes.list\",sep='\\t')\n",
    "filtro_genes_3 = pipeline_functions.leer_tabla_columnas('tbr.essentialOrthologs.list',',')             "
   ]
  },
  {
   "cell_type": "code",
   "execution_count": 25,
   "id": "1f8bcb5c",
   "metadata": {},
   "outputs": [],
   "source": [
    "df1 = pandas.merge(results, filtro_genes_1,'inner', left_on='orf',right_on='gene_name')\n",
    "df2 = pandas.merge(df1, filtro_genes_2,'inner', left_on='omcl_x',right_on='omcl')\n",
    "df3a = df2.loc[(df2['species_code_y'] == 'tcr')]\n",
    "df3b = df2.loc[(df2['species_code_y'] == 'tcr.dm28')]\n",
    "df3 = pandas.concat([df3a,df3b],sort = False)\n",
    "df3.to_csv('genes_info.csv')"
   ]
  },
  {
   "cell_type": "markdown",
   "id": "ef07ad55",
   "metadata": {},
   "source": [
    "# Filtrado de los compuestos"
   ]
  },
  {
   "cell_type": "code",
   "execution_count": 26,
   "id": "2bf799e5",
   "metadata": {},
   "outputs": [],
   "source": [
    "resultado_filtro_compuestos_1 = pipeline_functions.interseccion_datos(gdi_inchikey,filtro_compuestos_2,'inchiKey','inchikey','Disponibilidad comercial','inchiKey')\n",
    "resultado_compuestos_1 = resultado_filtro_compuestos_1[0]\n",
    "resultado_compuestos_1 = resultado_compuestos_1[['orf','inchiKey','smiles']]\n",
    "resultado_compuestos_1 = resultado_compuestos_1.drop_duplicates()\n",
    "resultado_compuestos_1 = resultado_compuestos_1.dropna()"
   ]
  },
  {
   "cell_type": "code",
   "execution_count": 27,
   "id": "e96431b6",
   "metadata": {},
   "outputs": [],
   "source": [
    "resultado_filtro_compuestos_2 = pipeline_functions.drug_likness(resultado_compuestos_1,'smiles')\n",
    "resultado_compuestos_2 = resultado_filtro_compuestos_2[0]\n",
    "resultado_compuestos_2 = resultado_compuestos_2[['orf','inchiKey','smiles']]\n",
    "resultado_compuestos_2 = resultado_compuestos_2.drop_duplicates()\n",
    "resultado_compuestos_2 = resultado_compuestos_2.dropna()"
   ]
  },
  {
   "cell_type": "code",
   "execution_count": 28,
   "id": "37e5c3ec",
   "metadata": {},
   "outputs": [],
   "source": [
    "#Cuento las drogas para seleccionar según promiscuidad\n",
    "umbral=20\n",
    "drug_count = resultado_filtro_compuestos_2[0].groupby('inchiKey').nunique()\n",
    "drug_count = drug_count.sort_values(by=['orf'])\n",
    "drug_count = drug_count[drug_count['orf']<umbral]\n",
    "drug_count = drug_count.unstack(level=-1).reset_index().drop('level_0', axis=1)\n",
    "drug_count = drug_count.drop_duplicates()\n",
    "\n",
    "drug_selection = pandas.merge(left=gdi_inchikey,right=drug_count,how=\"inner\",left_on=['inchiKey'], right_on=['inchiKey'])"
   ]
  },
  {
   "cell_type": "code",
   "execution_count": 29,
   "id": "e3f895e6",
   "metadata": {},
   "outputs": [],
   "source": [
    "not_selected_compounds = pandas.concat([resultado_filtro_compuestos_1[1], resultado_filtro_compuestos_2[1]], ignore_index=False)"
   ]
  },
  {
   "cell_type": "markdown",
   "id": "c09089a6",
   "metadata": {},
   "source": [
    "# Análisis de los filtros de compuestos"
   ]
  },
  {
   "cell_type": "code",
   "execution_count": 30,
   "id": "3b7dea51",
   "metadata": {},
   "outputs": [],
   "source": [
    "resultados_1 = pipeline_functions.interseccion_datos(gdi_inchikey,resultado_compuestos_1,'inchiKey','inchiKey','Merged data','inchiKey')"
   ]
  },
  {
   "cell_type": "code",
   "execution_count": 31,
   "id": "7f9b1092",
   "metadata": {},
   "outputs": [],
   "source": [
    "resultados_1 = resultados_1[0]\n",
    "resultados_1 = resultados_1[['orf_y','inchiKey']]\n",
    "resultados_1 = resultados_1.drop_duplicates()\n",
    "resultados_1 = resultados_1.dropna()"
   ]
  },
  {
   "cell_type": "code",
   "execution_count": 32,
   "id": "83b0fff4",
   "metadata": {},
   "outputs": [
    {
     "name": "stdout",
     "output_type": "stream",
     "text": [
      "5220\n",
      "1195\n"
     ]
    }
   ],
   "source": [
    "resultados_1\n",
    "print(len(resultados_1['orf_y'].unique()))\n",
    "print(len(resultados_1['inchiKey'].unique()))"
   ]
  },
  {
   "cell_type": "code",
   "execution_count": 33,
   "id": "18d852b1",
   "metadata": {},
   "outputs": [],
   "source": [
    "resultados_2 = pipeline_functions.interseccion_datos(gdi_inchikey,resultado_compuestos_2,'inchiKey','inchiKey','Merged data','inchiKey')"
   ]
  },
  {
   "cell_type": "code",
   "execution_count": 34,
   "id": "63f758fd",
   "metadata": {},
   "outputs": [],
   "source": [
    "resultados_2 = resultados_2[0]\n",
    "resultados_2 = resultados_2[['orf_y','inchiKey']]\n",
    "resultados_2 = resultados_2.drop_duplicates()\n",
    "resultados_2 = resultados_2.dropna()"
   ]
  },
  {
   "cell_type": "code",
   "execution_count": 35,
   "id": "de5be725",
   "metadata": {},
   "outputs": [
    {
     "name": "stdout",
     "output_type": "stream",
     "text": [
      "5115\n",
      "1126\n"
     ]
    }
   ],
   "source": [
    "resultados_2\n",
    "print(len(resultados_2['orf_y'].unique()))\n",
    "print(len(resultados_2['inchiKey'].unique()))"
   ]
  },
  {
   "cell_type": "code",
   "execution_count": 36,
   "id": "450ac7c6",
   "metadata": {},
   "outputs": [],
   "source": [
    "resultados_3 = pipeline_functions.interseccion_datos(gdi_inchikey,drug_selection,'inchiKey','inchiKey','Merged data','inchiKey')"
   ]
  },
  {
   "cell_type": "code",
   "execution_count": 37,
   "id": "4177252b",
   "metadata": {},
   "outputs": [],
   "source": [
    "resultados_3 = resultados_3[0]\n",
    "resultados_3 = resultados_3[['orf_y','inchiKey']]\n",
    "resultados_3 = resultados_3.drop_duplicates()\n",
    "resultados_3 = resultados_3.dropna()"
   ]
  },
  {
   "cell_type": "code",
   "execution_count": 38,
   "id": "500e0ba2",
   "metadata": {},
   "outputs": [
    {
     "name": "stdout",
     "output_type": "stream",
     "text": [
      "310\n",
      "745\n"
     ]
    }
   ],
   "source": [
    "resultados_3\n",
    "print(len(resultados_3['orf_y'].unique()))\n",
    "print(len(resultados_3['inchiKey'].unique()))"
   ]
  },
  {
   "cell_type": "code",
   "execution_count": 39,
   "id": "a5fd8cc4",
   "metadata": {},
   "outputs": [],
   "source": [
    "#gdi = pandas.read_csv(in_file,sep='\\t')\n",
    "df4 = pandas.merge(gdi, df3,'inner', left_on='inchiKey',right_on='inchiKey')\n",
    "#df4 = pandas.merge(results, df3,'inner', left_on='inchiKey',right_on='inchiKey')\n",
    "#results\n",
    "df4.to_csv('cmp_info.csv')"
   ]
  },
  {
   "cell_type": "markdown",
   "id": "aad76d5f",
   "metadata": {},
   "source": [
    "# Intersección del análisis"
   ]
  },
  {
   "cell_type": "code",
   "execution_count": 40,
   "id": "0a0b4ad0",
   "metadata": {},
   "outputs": [],
   "source": [
    "resultados = pipeline_functions.interseccion_datos(drug_selection,gene_selection,'inchiKey','inchiKey','Merged data','inchiKey')"
   ]
  },
  {
   "cell_type": "code",
   "execution_count": 41,
   "id": "b2341855",
   "metadata": {},
   "outputs": [],
   "source": [
    "resultados_selección = resultados[0]\n",
    "resultados_selección = resultados_selección[['orf_x','inchiKey']]\n",
    "resultados_selección = resultados_selección .rename(columns={'orf_x':'orf'}) \n",
    "resultados_selección = resultados_selección.drop_duplicates()\n",
    "resultados_selección = resultados_selección.dropna()"
   ]
  },
  {
   "cell_type": "code",
   "execution_count": 42,
   "id": "01f3e0db",
   "metadata": {},
   "outputs": [],
   "source": [
    "resultados_selección.to_csv('gdi_results.csv')"
   ]
  },
  {
   "cell_type": "code",
   "execution_count": 43,
   "id": "907ad2fe",
   "metadata": {},
   "outputs": [],
   "source": [
    "not_selected_data = pandas.concat([resultados[1], not_selected_genes, not_selected_compounds], ignore_index=False)"
   ]
  },
  {
   "cell_type": "code",
   "execution_count": 44,
   "id": "71bfd48b",
   "metadata": {},
   "outputs": [],
   "source": [
    "not_selected_data = not_selected_data[['inchiKey','orf','Filter Name']]"
   ]
  },
  {
   "cell_type": "code",
   "execution_count": 45,
   "id": "8221bff8",
   "metadata": {},
   "outputs": [],
   "source": [
    "not_selected_data.to_csv('gdi_not_selected_data.csv')"
   ]
  },
  {
   "cell_type": "markdown",
   "id": "020f5cd6",
   "metadata": {},
   "source": [
    "# Análisis de los resultados"
   ]
  },
  {
   "cell_type": "code",
   "execution_count": 46,
   "id": "c854be7e",
   "metadata": {},
   "outputs": [],
   "source": [
    "results  = pandas.read_csv('gdi_results.csv',sep=',')"
   ]
  },
  {
   "cell_type": "code",
   "execution_count": 47,
   "id": "9f5eba71",
   "metadata": {},
   "outputs": [],
   "source": [
    "genes = results[['orf']]\n",
    "genes = genes.drop_duplicates()\n",
    "genes.to_csv('genes')\n",
    "compounds = results[['inchiKey']]\n",
    "compounds = compounds.drop_duplicates()\n",
    "compounds.to_csv('compounds')"
   ]
  },
  {
   "cell_type": "code",
   "execution_count": 48,
   "id": "e088c0c1",
   "metadata": {},
   "outputs": [
    {
     "data": {
      "text/html": [
       "<div>\n",
       "<style scoped>\n",
       "    .dataframe tbody tr th:only-of-type {\n",
       "        vertical-align: middle;\n",
       "    }\n",
       "\n",
       "    .dataframe tbody tr th {\n",
       "        vertical-align: top;\n",
       "    }\n",
       "\n",
       "    .dataframe thead th {\n",
       "        text-align: right;\n",
       "    }\n",
       "</style>\n",
       "<table border=\"1\" class=\"dataframe\">\n",
       "  <thead>\n",
       "    <tr style=\"text-align: right;\">\n",
       "      <th></th>\n",
       "      <th>inchiKey</th>\n",
       "    </tr>\n",
       "  </thead>\n",
       "  <tbody>\n",
       "    <tr>\n",
       "      <th>0</th>\n",
       "      <td>RRAFCDWBNXTKKO-UHFFFAOYSA-N</td>\n",
       "    </tr>\n",
       "    <tr>\n",
       "      <th>2</th>\n",
       "      <td>FNWNGQGTFICQJU-UHFFFAOYSA-N</td>\n",
       "    </tr>\n",
       "    <tr>\n",
       "      <th>4</th>\n",
       "      <td>OKQNTQZCMNRWEL-UHFFFAOYSA-N</td>\n",
       "    </tr>\n",
       "    <tr>\n",
       "      <th>5</th>\n",
       "      <td>ZKEVGLUAKGKGMO-UHFFFAOYSA-N</td>\n",
       "    </tr>\n",
       "    <tr>\n",
       "      <th>6</th>\n",
       "      <td>FJLGEFLZQAZZCD-UHFFFAOYSA-N</td>\n",
       "    </tr>\n",
       "    <tr>\n",
       "      <th>...</th>\n",
       "      <td>...</td>\n",
       "    </tr>\n",
       "    <tr>\n",
       "      <th>241</th>\n",
       "      <td>YRBKEZXQBXATGS-UHFFFAOYSA-N</td>\n",
       "    </tr>\n",
       "    <tr>\n",
       "      <th>242</th>\n",
       "      <td>AWTHEUKNNKZNEO-UHFFFAOYSA-N</td>\n",
       "    </tr>\n",
       "    <tr>\n",
       "      <th>243</th>\n",
       "      <td>AIEIZIKOQAFXLM-UHFFFAOYSA-N</td>\n",
       "    </tr>\n",
       "    <tr>\n",
       "      <th>244</th>\n",
       "      <td>SSPYSWLZOPCOLO-UHFFFAOYSA-N</td>\n",
       "    </tr>\n",
       "    <tr>\n",
       "      <th>245</th>\n",
       "      <td>CWJSHJJYOPWUGX-UHFFFAOYSA-N</td>\n",
       "    </tr>\n",
       "  </tbody>\n",
       "</table>\n",
       "<p>189 rows × 1 columns</p>\n",
       "</div>"
      ],
      "text/plain": [
       "                        inchiKey\n",
       "0    RRAFCDWBNXTKKO-UHFFFAOYSA-N\n",
       "2    FNWNGQGTFICQJU-UHFFFAOYSA-N\n",
       "4    OKQNTQZCMNRWEL-UHFFFAOYSA-N\n",
       "5    ZKEVGLUAKGKGMO-UHFFFAOYSA-N\n",
       "6    FJLGEFLZQAZZCD-UHFFFAOYSA-N\n",
       "..                           ...\n",
       "241  YRBKEZXQBXATGS-UHFFFAOYSA-N\n",
       "242  AWTHEUKNNKZNEO-UHFFFAOYSA-N\n",
       "243  AIEIZIKOQAFXLM-UHFFFAOYSA-N\n",
       "244  SSPYSWLZOPCOLO-UHFFFAOYSA-N\n",
       "245  CWJSHJJYOPWUGX-UHFFFAOYSA-N\n",
       "\n",
       "[189 rows x 1 columns]"
      ]
     },
     "execution_count": 48,
     "metadata": {},
     "output_type": "execute_result"
    }
   ],
   "source": [
    "compounds"
   ]
  },
  {
   "cell_type": "code",
   "execution_count": 49,
   "id": "d403e280",
   "metadata": {},
   "outputs": [],
   "source": [
    "# Analisis de los sets de datos:\n",
    "Giaever  = pandas.read_csv('Giaever.gene_drug_interaction_author',sep='\\t',header=None)\n",
    "Hillenmeyer  = pandas.read_csv('hillenmeyer.gene_drug_interaction_author',sep='\\t',header=None)\n",
    "Hoepfner  = pandas.read_csv('Hoepfner.gene_drug_interaction_author',sep='\\t',header=None)\n",
    "Lee  = pandas.read_csv('Lee.gene_drug_interaction_author',sep='\\t',header=None)\n",
    "Wildenhain  = pandas.read_csv('Wildenhain.gene_drug_interaction_author',sep='\\t',header=None)"
   ]
  },
  {
   "cell_type": "code",
   "execution_count": 50,
   "id": "77831c62",
   "metadata": {},
   "outputs": [
    {
     "data": {
      "text/plain": [
       "2936"
      ]
     },
     "execution_count": 50,
     "metadata": {},
     "output_type": "execute_result"
    }
   ],
   "source": [
    "#Cuento los genes y los compuestos de cada set de datos\n",
    "#Giaever \n",
    "Giaever_genes = Giaever[1]\n",
    "#Hillenmeyer\n",
    "Hillenmeyer_genes = Hillenmeyer[1]\n",
    "#Hoepfner \n",
    "Hoepfner_genes = Hoepfner[1]\n",
    "#Lee\n",
    "Lee_genes = Lee[1]\n",
    "#Wildenhain\n",
    "Wildenhain_genes = Wildenhain[1]\n",
    "\n",
    "#unique_genes_data = pandas.concat([Giaever_genes, Hillenmeyer_genes, Hoepfner_genes, Lee_genes, Wildenhain_genes], ignore_index=False)\n",
    "#print(unique_genes_data)\n",
    "Giaever_genes.drop_duplicates()\n",
    "unique_genes_data = pandas.concat([Giaever_genes,Hillenmeyer_genes,Hoepfner_genes,Lee_genes,Wildenhain_genes], ignore_index=False)\n",
    "#unique_genes_data.drop_duplicates()\n",
    "len(unique_genes_data.unique())"
   ]
  },
  {
   "cell_type": "code",
   "execution_count": 51,
   "id": "2c69cdba",
   "metadata": {},
   "outputs": [
    {
     "name": "stdout",
     "output_type": "stream",
     "text": [
      "5812\n",
      "5008\n",
      "1780\n",
      "1780\n",
      "996\n"
     ]
    }
   ],
   "source": [
    "print(len(gdi_inchikey['orf'].unique()))\n",
    "print(len(resultado_genes_1['gene_name'].unique()))\n",
    "print(len(resultado_genes_2['gene_name_y'].unique()))\n",
    "print(len(resultado_genes_3['gene_name_y'].unique()))\n",
    "print(len(gene_selection['orf'].unique()))"
   ]
  },
  {
   "cell_type": "code",
   "execution_count": 52,
   "id": "a55db0a6",
   "metadata": {
    "scrolled": true
   },
   "outputs": [
    {
     "name": "stdout",
     "output_type": "stream",
     "text": [
      "2771\n",
      "1195\n",
      "1126\n",
      "745\n"
     ]
    }
   ],
   "source": [
    "print(len(gdi_inchikey['inchiKey'].unique()))\n",
    "print(len(resultado_compuestos_1['inchiKey'].unique()))\n",
    "print(len(resultado_compuestos_2['inchiKey'].unique()))\n",
    "print(len(drug_selection['inchiKey'].unique()))"
   ]
  },
  {
   "cell_type": "code",
   "execution_count": 53,
   "id": "7f8b958a",
   "metadata": {},
   "outputs": [
    {
     "name": "stdout",
     "output_type": "stream",
     "text": [
      "73\n",
      "189\n"
     ]
    }
   ],
   "source": [
    "resultados_selección\n",
    "print(len(resultados_selección['orf'].unique()))\n",
    "print(len(resultados_selección['inchiKey'].unique()))"
   ]
  },
  {
   "cell_type": "code",
   "execution_count": 54,
   "id": "9478596b",
   "metadata": {},
   "outputs": [
    {
     "name": "stdout",
     "output_type": "stream",
     "text": [
      "               orf  omcl\n",
      "Filter Name             \n",
      "Essentiality     0   610\n",
      "OMCL in Tryps    0  2867\n",
      "OMCL in Yeast  569     0\n",
      "                          inchiKey    orf  smiles    mol  NumHDonors  \\\n",
      "Filter Name                                                            \n",
      "Disponibilidad comercial      1576      0       0      0           0   \n",
      "Not Druglike                 30014  30014   30014  30014       30014   \n",
      "\n",
      "                          NumHAcceptors     MW   logP  Lipinski    RO3  \n",
      "Filter Name                                                             \n",
      "Disponibilidad comercial              0      0      0         0      0  \n",
      "Not Druglike                      30014  30014  30014     30014  30014  \n"
     ]
    }
   ],
   "source": [
    "print(not_selected_genes.groupby('Filter Name').count())\n",
    "print(not_selected_compounds.groupby('Filter Name').count())"
   ]
  },
  {
   "cell_type": "code",
   "execution_count": 55,
   "id": "b9d66316",
   "metadata": {},
   "outputs": [
    {
     "data": {
      "text/html": [
       "<div>\n",
       "<style scoped>\n",
       "    .dataframe tbody tr th:only-of-type {\n",
       "        vertical-align: middle;\n",
       "    }\n",
       "\n",
       "    .dataframe tbody tr th {\n",
       "        vertical-align: top;\n",
       "    }\n",
       "\n",
       "    .dataframe thead th {\n",
       "        text-align: right;\n",
       "    }\n",
       "</style>\n",
       "<table border=\"1\" class=\"dataframe\">\n",
       "  <thead>\n",
       "    <tr style=\"text-align: right;\">\n",
       "      <th></th>\n",
       "      <th>orf</th>\n",
       "      <th>inchiKey</th>\n",
       "    </tr>\n",
       "  </thead>\n",
       "  <tbody>\n",
       "    <tr>\n",
       "      <th>0</th>\n",
       "      <td>YPR119W</td>\n",
       "      <td>RRAFCDWBNXTKKO-UHFFFAOYSA-N</td>\n",
       "    </tr>\n",
       "    <tr>\n",
       "      <th>68</th>\n",
       "      <td>YPR141C</td>\n",
       "      <td>RRAFCDWBNXTKKO-UHFFFAOYSA-N</td>\n",
       "    </tr>\n",
       "    <tr>\n",
       "      <th>136</th>\n",
       "      <td>YPR119W</td>\n",
       "      <td>FNWNGQGTFICQJU-UHFFFAOYSA-N</td>\n",
       "    </tr>\n",
       "    <tr>\n",
       "      <th>208</th>\n",
       "      <td>YPR141C</td>\n",
       "      <td>FNWNGQGTFICQJU-UHFFFAOYSA-N</td>\n",
       "    </tr>\n",
       "    <tr>\n",
       "      <th>280</th>\n",
       "      <td>YML126C</td>\n",
       "      <td>OKQNTQZCMNRWEL-UHFFFAOYSA-N</td>\n",
       "    </tr>\n",
       "    <tr>\n",
       "      <th>...</th>\n",
       "      <td>...</td>\n",
       "      <td>...</td>\n",
       "    </tr>\n",
       "    <tr>\n",
       "      <th>8956</th>\n",
       "      <td>YPL160W</td>\n",
       "      <td>YRBKEZXQBXATGS-UHFFFAOYSA-N</td>\n",
       "    </tr>\n",
       "    <tr>\n",
       "      <th>8958</th>\n",
       "      <td>YPL160W</td>\n",
       "      <td>AWTHEUKNNKZNEO-UHFFFAOYSA-N</td>\n",
       "    </tr>\n",
       "    <tr>\n",
       "      <th>8960</th>\n",
       "      <td>YOL127W</td>\n",
       "      <td>AIEIZIKOQAFXLM-UHFFFAOYSA-N</td>\n",
       "    </tr>\n",
       "    <tr>\n",
       "      <th>8962</th>\n",
       "      <td>YPR181C</td>\n",
       "      <td>SSPYSWLZOPCOLO-UHFFFAOYSA-N</td>\n",
       "    </tr>\n",
       "    <tr>\n",
       "      <th>9014</th>\n",
       "      <td>YNL067W</td>\n",
       "      <td>CWJSHJJYOPWUGX-UHFFFAOYSA-N</td>\n",
       "    </tr>\n",
       "  </tbody>\n",
       "</table>\n",
       "<p>246 rows × 2 columns</p>\n",
       "</div>"
      ],
      "text/plain": [
       "          orf                     inchiKey\n",
       "0     YPR119W  RRAFCDWBNXTKKO-UHFFFAOYSA-N\n",
       "68    YPR141C  RRAFCDWBNXTKKO-UHFFFAOYSA-N\n",
       "136   YPR119W  FNWNGQGTFICQJU-UHFFFAOYSA-N\n",
       "208   YPR141C  FNWNGQGTFICQJU-UHFFFAOYSA-N\n",
       "280   YML126C  OKQNTQZCMNRWEL-UHFFFAOYSA-N\n",
       "...       ...                          ...\n",
       "8956  YPL160W  YRBKEZXQBXATGS-UHFFFAOYSA-N\n",
       "8958  YPL160W  AWTHEUKNNKZNEO-UHFFFAOYSA-N\n",
       "8960  YOL127W  AIEIZIKOQAFXLM-UHFFFAOYSA-N\n",
       "8962  YPR181C  SSPYSWLZOPCOLO-UHFFFAOYSA-N\n",
       "9014  YNL067W  CWJSHJJYOPWUGX-UHFFFAOYSA-N\n",
       "\n",
       "[246 rows x 2 columns]"
      ]
     },
     "execution_count": 55,
     "metadata": {},
     "output_type": "execute_result"
    }
   ],
   "source": [
    "resultados_selección"
   ]
  },
  {
   "cell_type": "code",
   "execution_count": 100,
   "id": "14d767c9",
   "metadata": {},
   "outputs": [
    {
     "name": "stdout",
     "output_type": "stream",
     "text": [
      "['YDR037W']\n",
      "1\n"
     ]
    },
    {
     "data": {
      "image/png": "[encoded data removed]",
      "text/plain": [
       "<IPython.core.display.Image object>"
      ]
     },
     "execution_count": 100,
     "metadata": {},
     "output_type": "execute_result"
    }
   ],
   "source": [
    "# Potential targets of compounds\n",
    "CID_18 = 'C1=CC=C(C(=C1)C2=COC3=C(C2=O)C=CC(=C3)O)Cl'\n",
    "CID_169 = 'CN1C2=C(C(=O)N(C1=O)CC3=CC(=CC=C3)Cl)N(C=N2)CC4=CC=CC=C4'\n",
    "CID_189 = 'CSC1=C(C(=C(S1)C2=CC=NN2)C3=CC=CC=C3)C#N'\n",
    "CID_190 = 'C[C@@H](c1ncncc1F)[C@](O)(CN2C=NC=N2)c3ccc(F)cc3F'\n",
    "\n",
    "target_per_compound = gdi.loc[gdi['smiles'] == CID_18]\n",
    "List_of_target_per_compound = target_per_compound['orf'].tolist()\n",
    "print(List_of_target_per_compound)\n",
    "print(len(List_of_target_per_compound))\n",
    "\n",
    "ms_target = [Chem.MolFromSmiles(CID_169)]\n",
    "Draw.MolsToGridImage(ms_target)"
   ]
  },
  {
   "cell_type": "code",
   "execution_count": 122,
   "id": "51433e05",
   "metadata": {},
   "outputs": [
    {
     "name": "stdout",
     "output_type": "stream",
     "text": [
      "['C=CCSSCC=C', 'C1CCCCCNc2cc[n+](c3c2cccc3)Cc2ccc3c(c2)Cc2cc(C[n+]4ccc(NCCCC1)c1ccccc41)ccc32', 'Clc1ccccc1C(n1cncc1)(c1ccccc1)c1ccccc1', 'CCN(CCOC(=O)C(c1ccccc1)C1CCCCC1)CC.Cl', 'COc1cc(cc(c1OC)OC)C1C2C(=O)OCC2C(c2c1cc1OCOc1c2)O', 'COc1cc(cc(c1OC)OC)[C@H]1[C@H]2C(=O)OC[C@@H]2[C@H](c2c1cc1OCOc1c2)O', 'COc1cc(cc(c1OC)OC)[C@H]1[C@@H]2C(=O)OC[C@@H]2[C@H](c2c1cc1OCOc1c2)O', 'COc1cc(cc(c1OC)OC)[C@H]1[C@H]2C(=O)OC[C@@H]2[C@@H](c2c1cc1OCOc1c2)O', 'COc1cc(cc(c1OC)OC)[C@H]1[C@@H]2C(=O)OCC2[C@H](c2c1cc1OCOc1c2)O', 'COc1cc(cc(c1OC)OC)[C@@H]1[C@H]2C(=O)OC[C@@H]2[C@@H](c2c1cc1OCOc1c2)O', 'COc1cc(cc(c1OC)OC)[C@H]1[C@H]2C(=O)OCC2[C@H](c2c1cc1OCOc1c2)O', 'COc1cc(cc(c1OC)OC)[C@@H]1[C@@H]2C(=O)OC[C@@H]2[C@H](c2c1cc1OCOc1c2)O', 'COc1cc(cc(c1OC)OC)[C@H]1[C@@H]2C(=O)OC[C@@H]2[C@@H](c2c1cc1OCOc1c2)O', 'COc1cc2nc(nc(c2cc1OC)N)N1CCN(CC1)C(=O)c1ccco1', 'COc1cc2nc(nc(c2cc1OC)N)N1CCN(CC1)C(=O)c1ccco1.Cl', 'c1scc(n1)c1nc2c([nH]1)cccc2', 'c1csc(n1)c1nc2c([nH]1)cccc2', 'CN(C[C@@H](Cn1c2ccc(cc2c2c1ccc(c2)Br)Br)O)C', 'CN(CC(Cn1c2ccc(cc2c2c1ccc(c2)Br)Br)O)C', 'C[C@@H]3CCC[C@@H](C[C@H]2Cc1cc(O)cc(O)c1C(=O)O2)O3', 'C1=CC=C(C(=C1)C2=COC3=C(C2=O)C=CC(=C3)O)Cl']\n",
      "21\n"
     ]
    },
    {
     "data": {
      "image/png": "[encoded data removed]",
      "text/plain": [
       "<IPython.core.display.Image object>"
      ]
     },
     "execution_count": 122,
     "metadata": {},
     "output_type": "execute_result"
    }
   ],
   "source": [
    "from rdkit import Chem\n",
    "from rdkit.Chem.Draw import IPythonConsole\n",
    "from rdkit.Chem import Draw\n",
    "\n",
    "# Other compounds for selected targets\n",
    "CID_18_target = 'YDR037W'\n",
    "CID_169_target = 'YBR002C'\n",
    "CID_189_target = 'YML094W'\n",
    "CID_190_target = 'YHR007C'\n",
    "\n",
    "compounds_per_target = gdi.loc[gdi['orf'] == CID_18_target]\n",
    "List_of_compounds_per_target = compounds_per_target['smiles'].unique().tolist()\n",
    "print(List_of_compounds_per_target)\n",
    "print(len(List_of_compounds_per_target))\n",
    "\n",
    "#for i in len(List_of_compounds_per_target):\n",
    "#    mol = Chem.MolFromSmiles(List_of_compounds_per_target[i])\n",
    "\n",
    "\n",
    "compounds_per_target_file = compounds_per_target['smiles']\n",
    "compounds_per_target_file = compounds_per_target_file.drop_duplicates()\n",
    "compounds_per_target_file.to_csv('compounds_for_CID_18_target_file.csv')\n",
    "\n",
    "\n",
    "ms = [Chem.MolFromSmiles(x) for x in List_of_compounds_per_target]\n",
    "Draw.MolsToGridImage(ms)"
   ]
  },
  {
   "cell_type": "code",
   "execution_count": 121,
   "id": "a2aae3c5",
   "metadata": {},
   "outputs": [
    {
     "data": {
      "text/plain": [
       "234090                                           C=CCSSCC=C\n",
       "234091    C1CCCCCNc2cc[n+](c3c2cccc3)Cc2ccc3c(c2)Cc2cc(C...\n",
       "234092               Clc1ccccc1C(n1cncc1)(c1ccccc1)c1ccccc1\n",
       "234093                CCN(CCOC(=O)C(c1ccccc1)C1CCCCC1)CC.Cl\n",
       "234096    COc1cc(cc(c1OC)OC)C1C2C(=O)OCC2C(c2c1cc1OCOc1c2)O\n",
       "234097    COc1cc(cc(c1OC)OC)[C@H]1[C@H]2C(=O)OC[C@@H]2[C...\n",
       "234098    COc1cc(cc(c1OC)OC)[C@H]1[C@@H]2C(=O)OC[C@@H]2[...\n",
       "234099    COc1cc(cc(c1OC)OC)[C@H]1[C@H]2C(=O)OC[C@@H]2[C...\n",
       "234100    COc1cc(cc(c1OC)OC)[C@H]1[C@@H]2C(=O)OCC2[C@H](...\n",
       "234101    COc1cc(cc(c1OC)OC)[C@@H]1[C@H]2C(=O)OC[C@@H]2[...\n",
       "234102    COc1cc(cc(c1OC)OC)[C@H]1[C@H]2C(=O)OCC2[C@H](c...\n",
       "234103    COc1cc(cc(c1OC)OC)[C@@H]1[C@@H]2C(=O)OC[C@@H]2...\n",
       "234104    COc1cc(cc(c1OC)OC)[C@H]1[C@@H]2C(=O)OC[C@@H]2[...\n",
       "234105        COc1cc2nc(nc(c2cc1OC)N)N1CCN(CC1)C(=O)c1ccco1\n",
       "234106     COc1cc2nc(nc(c2cc1OC)N)N1CCN(CC1)C(=O)c1ccco1.Cl\n",
       "234107                          c1scc(n1)c1nc2c([nH]1)cccc2\n",
       "234108                          c1csc(n1)c1nc2c([nH]1)cccc2\n",
       "234109          CN(C[C@@H](Cn1c2ccc(cc2c2c1ccc(c2)Br)Br)O)C\n",
       "234110               CN(CC(Cn1c2ccc(cc2c2c1ccc(c2)Br)Br)O)C\n",
       "254731    C[C@@H]3CCC[C@@H](C[C@H]2Cc1cc(O)cc(O)c1C(=O)O...\n",
       "271271           C1=CC=C(C(=C1)C2=COC3=C(C2=O)C=CC(=C3)O)Cl\n",
       "Name: smiles, dtype: object"
      ]
     },
     "execution_count": 121,
     "metadata": {},
     "output_type": "execute_result"
    }
   ],
   "source": [
    "compounds_per_target_file"
   ]
  },
  {
   "cell_type": "markdown",
   "id": "feb4c081",
   "metadata": {},
   "source": [
    "# SEC14"
   ]
  },
  {
   "cell_type": "code",
   "execution_count": 56,
   "id": "ecb3aad0",
   "metadata": {},
   "outputs": [],
   "source": [
    "filtro_SEC14 = pandas.read_csv('GDI_SEC14.tsv',sep='\\t')\n",
    "filtro_SEC14_inchikey = pipeline_functions.smiles_to_inchikey(filtro_SEC14,'smiles')"
   ]
  },
  {
   "cell_type": "code",
   "execution_count": 57,
   "id": "fd33278a",
   "metadata": {},
   "outputs": [],
   "source": [
    "#Datos para genes\n",
    "filtro_genes_1 = pipeline_functions.leer_tabla_columnas(\"yeast.genes.list\",'\\t',['species_code', 'gene_name', 'omcl'])\n",
    "filtro_genes_2 = pipeline_functions.leer_tabla_columnas(\"tryp.genes.list\",'\\t',['species_code', 'gene_name', 'omcl'])\n",
    "filtro_genes_3 = pipeline_functions.leer_tabla_columnas('tbr.essentialOrthologs.list',',')"
   ]
  },
  {
   "cell_type": "code",
   "execution_count": 58,
   "id": "e6a1f982",
   "metadata": {},
   "outputs": [],
   "source": [
    "resultado_filtro_genes_1 = pipeline_functions.interseccion_datos(filtro_SEC14_inchikey,filtro_genes_1,'gene_name','gene_name',\"OMCL in Yeast\",'gene_name')\n",
    "resultado_genes_1 = resultado_filtro_genes_1[0]\n",
    "#resultado_genes_1 = resultado_genes_1[['gene_name','omcl','inchiKey']]\n",
    "#resultado_genes_1 = resultado_genes_1.drop_duplicates()\n",
    "#resultado_genes_1 = resultado_genes_1.dropna()"
   ]
  },
  {
   "cell_type": "code",
   "execution_count": 59,
   "id": "cacb4456",
   "metadata": {},
   "outputs": [],
   "source": [
    "resultado_filtro_genes_2 = pipeline_functions.interseccion_datos(resultado_genes_1 ,filtro_genes_2,'gene_name','gene_name',\"OMCL in Tryps\", \"gene_name\")\n",
    "resultado_genes_2 = resultado_filtro_genes_2[0]\n",
    "#resultado_genes_2 = resultado_genes_2[['gene_name_y','omcl','inchiKey']]\n",
    "#resultado_genes_2 = resultado_genes_2.drop_duplicates()\n",
    "#resultado_genes_2 = resultado_genes_2.dropna()"
   ]
  },
  {
   "cell_type": "code",
   "execution_count": 60,
   "id": "9411e602",
   "metadata": {},
   "outputs": [
    {
     "ename": "KeyError",
     "evalue": "'omcl'",
     "output_type": "error",
     "traceback": [
      "\u001b[1;31m---------------------------------------------------------------------------\u001b[0m",
      "\u001b[1;31mKeyError\u001b[0m                                  Traceback (most recent call last)",
      "File \u001b[1;32m~\\anaconda3\\envs\\my-rdkit-env\\lib\\site-packages\\pandas\\core\\indexes\\base.py:3629\u001b[0m, in \u001b[0;36mIndex.get_loc\u001b[1;34m(self, key, method, tolerance)\u001b[0m\n\u001b[0;32m   3628\u001b[0m \u001b[38;5;28;01mtry\u001b[39;00m:\n\u001b[1;32m-> 3629\u001b[0m     \u001b[38;5;28;01mreturn\u001b[39;00m \u001b[38;5;28;43mself\u001b[39;49m\u001b[38;5;241;43m.\u001b[39;49m\u001b[43m_engine\u001b[49m\u001b[38;5;241;43m.\u001b[39;49m\u001b[43mget_loc\u001b[49m\u001b[43m(\u001b[49m\u001b[43mcasted_key\u001b[49m\u001b[43m)\u001b[49m\n\u001b[0;32m   3630\u001b[0m \u001b[38;5;28;01mexcept\u001b[39;00m \u001b[38;5;167;01mKeyError\u001b[39;00m \u001b[38;5;28;01mas\u001b[39;00m err:\n",
      "File \u001b[1;32m~\\anaconda3\\envs\\my-rdkit-env\\lib\\site-packages\\pandas\\_libs\\index.pyx:136\u001b[0m, in \u001b[0;36mpandas._libs.index.IndexEngine.get_loc\u001b[1;34m()\u001b[0m\n",
      "File \u001b[1;32m~\\anaconda3\\envs\\my-rdkit-env\\lib\\site-packages\\pandas\\_libs\\index.pyx:163\u001b[0m, in \u001b[0;36mpandas._libs.index.IndexEngine.get_loc\u001b[1;34m()\u001b[0m\n",
      "File \u001b[1;32mpandas\\_libs\\hashtable_class_helper.pxi:5198\u001b[0m, in \u001b[0;36mpandas._libs.hashtable.PyObjectHashTable.get_item\u001b[1;34m()\u001b[0m\n",
      "File \u001b[1;32mpandas\\_libs\\hashtable_class_helper.pxi:5206\u001b[0m, in \u001b[0;36mpandas._libs.hashtable.PyObjectHashTable.get_item\u001b[1;34m()\u001b[0m\n",
      "\u001b[1;31mKeyError\u001b[0m: 'omcl'",
      "\nThe above exception was the direct cause of the following exception:\n",
      "\u001b[1;31mKeyError\u001b[0m                                  Traceback (most recent call last)",
      "Cell \u001b[1;32mIn [60], line 1\u001b[0m\n\u001b[1;32m----> 1\u001b[0m resultado_filtro_genes_3 \u001b[38;5;241m=\u001b[39m \u001b[43mpipeline_functions\u001b[49m\u001b[38;5;241;43m.\u001b[39;49m\u001b[43minterseccion_datos\u001b[49m\u001b[43m(\u001b[49m\u001b[43mresultado_genes_2\u001b[49m\u001b[43m,\u001b[49m\u001b[43mfiltro_genes_3\u001b[49m\u001b[43m,\u001b[49m\u001b[38;5;124;43m'\u001b[39;49m\u001b[38;5;124;43momcl\u001b[39;49m\u001b[38;5;124;43m'\u001b[39;49m\u001b[43m,\u001b[49m\u001b[38;5;124;43m'\u001b[39;49m\u001b[38;5;124;43momcl\u001b[39;49m\u001b[38;5;124;43m'\u001b[39;49m\u001b[43m,\u001b[49m\u001b[38;5;124;43m\"\u001b[39;49m\u001b[38;5;124;43mEssentiality\u001b[39;49m\u001b[38;5;124;43m\"\u001b[39;49m\u001b[43m,\u001b[49m\u001b[43m \u001b[49m\u001b[38;5;124;43m\"\u001b[39;49m\u001b[38;5;124;43momcl\u001b[39;49m\u001b[38;5;124;43m\"\u001b[39;49m\u001b[43m)\u001b[49m\n\u001b[0;32m      2\u001b[0m resultado_genes_3 \u001b[38;5;241m=\u001b[39m resultado_filtro_genes_2[\u001b[38;5;241m0\u001b[39m]\n",
      "File \u001b[1;32m~\\Desktop\\2021\\pipeline_functions.py:36\u001b[0m, in \u001b[0;36minterseccion_datos\u001b[1;34m(data, selection_data, columna_df, columna_selection_data, filter_name, data_type)\u001b[0m\n\u001b[0;32m     31\u001b[0m \u001b[38;5;28;01mdef\u001b[39;00m \u001b[38;5;21minterseccion_datos\u001b[39m(data,selection_data,columna_df,columna_selection_data,filter_name,data_type):\n\u001b[0;32m     32\u001b[0m     \u001b[38;5;124;03m'''\u001b[39;00m\n\u001b[0;32m     33\u001b[0m \u001b[38;5;124;03m    Recibe dos dataframes, uno con los datos a analizar y otro para seleccionar, y las columnas con las que se va a realizar el filtrado\u001b[39;00m\n\u001b[0;32m     34\u001b[0m \u001b[38;5;124;03m    devolviendo el df filtrado\u001b[39;00m\n\u001b[0;32m     35\u001b[0m \u001b[38;5;124;03m    '''\u001b[39;00m\n\u001b[1;32m---> 36\u001b[0m     df \u001b[38;5;241m=\u001b[39m \u001b[43mdata\u001b[49m\u001b[43m[\u001b[49m\u001b[43mcolumna_df\u001b[49m\u001b[43m]\u001b[49m\u001b[38;5;241m.\u001b[39munique()\u001b[38;5;241m.\u001b[39mtolist()\n\u001b[0;32m     37\u001b[0m     df_filtering \u001b[38;5;241m=\u001b[39m selection_data[columna_selection_data]\u001b[38;5;241m.\u001b[39munique()\u001b[38;5;241m.\u001b[39mtolist()\n\u001b[0;32m     38\u001b[0m     intersected_column \u001b[38;5;241m=\u001b[39m []\n",
      "File \u001b[1;32m~\\anaconda3\\envs\\my-rdkit-env\\lib\\site-packages\\pandas\\core\\frame.py:3505\u001b[0m, in \u001b[0;36mDataFrame.__getitem__\u001b[1;34m(self, key)\u001b[0m\n\u001b[0;32m   3503\u001b[0m \u001b[38;5;28;01mif\u001b[39;00m \u001b[38;5;28mself\u001b[39m\u001b[38;5;241m.\u001b[39mcolumns\u001b[38;5;241m.\u001b[39mnlevels \u001b[38;5;241m>\u001b[39m \u001b[38;5;241m1\u001b[39m:\n\u001b[0;32m   3504\u001b[0m     \u001b[38;5;28;01mreturn\u001b[39;00m \u001b[38;5;28mself\u001b[39m\u001b[38;5;241m.\u001b[39m_getitem_multilevel(key)\n\u001b[1;32m-> 3505\u001b[0m indexer \u001b[38;5;241m=\u001b[39m \u001b[38;5;28;43mself\u001b[39;49m\u001b[38;5;241;43m.\u001b[39;49m\u001b[43mcolumns\u001b[49m\u001b[38;5;241;43m.\u001b[39;49m\u001b[43mget_loc\u001b[49m\u001b[43m(\u001b[49m\u001b[43mkey\u001b[49m\u001b[43m)\u001b[49m\n\u001b[0;32m   3506\u001b[0m \u001b[38;5;28;01mif\u001b[39;00m is_integer(indexer):\n\u001b[0;32m   3507\u001b[0m     indexer \u001b[38;5;241m=\u001b[39m [indexer]\n",
      "File \u001b[1;32m~\\anaconda3\\envs\\my-rdkit-env\\lib\\site-packages\\pandas\\core\\indexes\\base.py:3631\u001b[0m, in \u001b[0;36mIndex.get_loc\u001b[1;34m(self, key, method, tolerance)\u001b[0m\n\u001b[0;32m   3629\u001b[0m     \u001b[38;5;28;01mreturn\u001b[39;00m \u001b[38;5;28mself\u001b[39m\u001b[38;5;241m.\u001b[39m_engine\u001b[38;5;241m.\u001b[39mget_loc(casted_key)\n\u001b[0;32m   3630\u001b[0m \u001b[38;5;28;01mexcept\u001b[39;00m \u001b[38;5;167;01mKeyError\u001b[39;00m \u001b[38;5;28;01mas\u001b[39;00m err:\n\u001b[1;32m-> 3631\u001b[0m     \u001b[38;5;28;01mraise\u001b[39;00m \u001b[38;5;167;01mKeyError\u001b[39;00m(key) \u001b[38;5;28;01mfrom\u001b[39;00m \u001b[38;5;21;01merr\u001b[39;00m\n\u001b[0;32m   3632\u001b[0m \u001b[38;5;28;01mexcept\u001b[39;00m \u001b[38;5;167;01mTypeError\u001b[39;00m:\n\u001b[0;32m   3633\u001b[0m     \u001b[38;5;66;03m# If we have a listlike key, _check_indexing_error will raise\u001b[39;00m\n\u001b[0;32m   3634\u001b[0m     \u001b[38;5;66;03m#  InvalidIndexError. Otherwise we fall through and re-raise\u001b[39;00m\n\u001b[0;32m   3635\u001b[0m     \u001b[38;5;66;03m#  the TypeError.\u001b[39;00m\n\u001b[0;32m   3636\u001b[0m     \u001b[38;5;28mself\u001b[39m\u001b[38;5;241m.\u001b[39m_check_indexing_error(key)\n",
      "\u001b[1;31mKeyError\u001b[0m: 'omcl'"
     ]
    }
   ],
   "source": [
    "resultado_filtro_genes_3 = pipeline_functions.interseccion_datos(resultado_genes_2,filtro_genes_3,'omcl','omcl',\"Essentiality\", \"omcl\")\n",
    "resultado_genes_3 = resultado_filtro_genes_2[0]"
   ]
  },
  {
   "cell_type": "code",
   "execution_count": null,
   "id": "f6d1aaf6",
   "metadata": {},
   "outputs": [],
   "source": [
    "#Datos para compuestos\n",
    "filtro_compuestos_1 = pipeline_functions.leer_tabla_columnas('tested_drugs_inchikey.csv',',')\n",
    "filtro_compuestos_2 = pipeline_functions.leer_tabla_columnas('drug_availability_inchikey.csv',',')"
   ]
  },
  {
   "cell_type": "code",
   "execution_count": null,
   "id": "c6378ec3",
   "metadata": {},
   "outputs": [],
   "source": [
    "resultado_filtro_compuestos_1 = pipeline_functions.interseccion_datos(filtro_SEC14_inchikey,filtro_compuestos_2,'inchiKey','inchikey','Disponibilidad comercial','inchiKey')\n",
    "resultado_compuestos_1 = resultado_filtro_compuestos_1[0]\n",
    "resultado_compuestos_1 = resultado_compuestos_1[['gene_name','inchiKey','smiles_x']]\n",
    "resultado_compuestos_1 = resultado_compuestos_1.drop_duplicates()\n",
    "resultado_compuestos_1 = resultado_compuestos_1.dropna()"
   ]
  },
  {
   "cell_type": "code",
   "execution_count": null,
   "id": "c3c1dfdc",
   "metadata": {},
   "outputs": [],
   "source": [
    "resultado_filtro_compuestos_2 = pipeline_functions.drug_likness(resultado_compuestos_1,'smiles_x')\n",
    "resultado_compuestos_2 = resultado_filtro_compuestos_2[0]\n",
    "#resultado_compuestos_2 = resultado_compuestos_2[['orf','inchiKey','smiles']]\n",
    "#resultado_compuestos_2 = resultado_compuestos_2.drop_duplicates()\n",
    "#resultado_compuestos_2 = resultado_compuestos_2.dropna()"
   ]
  }
 ],
 "metadata": {
  "kernelspec": {
   "display_name": "Python 3 (ipykernel)",
   "language": "python",
   "name": "python3"
  },
  "language_info": {
   "codemirror_mode": {
    "name": "ipython",
    "version": 3
   },
   "file_extension": ".py",
   "mimetype": "text/x-python",
   "name": "python",
   "nbconvert_exporter": "python",
   "pygments_lexer": "ipython3",
   "version": "3.9.15"
  }
 },
 "nbformat": 4,
 "nbformat_minor": 5
}
