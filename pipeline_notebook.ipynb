{
 "cells": [
  {
   "cell_type": "markdown",
   "id": "d358cd28",
   "metadata": {},
   "source": [
    "# Prediction of pharmacogenomic associations pipeline"
   ]
  },
  {
   "cell_type": "markdown",
   "id": "df076ae7",
   "metadata": {},
   "source": [
    "This chemoinformatic and bioinformatic pipeline uses datasets to select conserved druggable modules between yeasts and Trypanosomes\n",
    "\n",
    "----"
   ]
  },
  {
   "cell_type": "markdown",
   "id": "3fa44cb6",
   "metadata": {},
   "source": [
    "## Import modules and functions"
   ]
  },
  {
   "cell_type": "code",
   "execution_count": 142,
   "id": "a0c47e30",
   "metadata": {},
   "outputs": [
    {
     "data": {
      "text/plain": [
       "<module 'pipeline_functions' from 'c:\\\\Users\\\\Mercedes_IIB-UNSAM\\\\Desktop\\\\UNSAM\\\\yeast_repo_pipeline\\\\pipeline_functions.py'>"
      ]
     },
     "execution_count": 142,
     "metadata": {},
     "output_type": "execute_result"
    }
   ],
   "source": [
    "import pandas as pd\n",
    "import os\n",
    "import pipeline_functions\n",
    "from importlib import reload # reload \n",
    "reload(pipeline_functions)"
   ]
  },
  {
   "cell_type": "markdown",
   "id": "cb141610",
   "metadata": {},
   "source": [
    "## Import datasets"
   ]
  },
  {
   "cell_type": "code",
   "execution_count": 143,
   "id": "ed66a7d1",
   "metadata": {},
   "outputs": [],
   "source": [
    "#Data import\n",
    "#path = r'c:\\\\Users\\\\Mercedes_IIB-UNSAM\\\\Desktop\\\\UNSAM\\\\yeast_repo_pipeline\\\\data'\n",
    "path = r'c:\\\\Users\\\\Mercedes_IIB-UNSAM\\\\Desktop\\\\UNSAM\\\\yeast_repo_pipeline'\n",
    "os.chdir(path)\n",
    "gdi = pd.read_csv(\"data/gene_drug_interaction\",sep='\\t')\n",
    "\n",
    "#Data for genes\n",
    "yeast_genes_data = pipeline_functions.read_dataframe_columns(\"data/yeast.genes.list\",'\\t',['species_code', 'gene_name', 'omcl'])\n",
    "tryp_genes_data = pipeline_functions.read_dataframe_columns(\"data/tryp.genes.list\",'\\t',['species_code', 'gene_name', 'omcl'])\n",
    "essential_gene_data = pipeline_functions.read_dataframe_columns('data/tbr.essentialOrthologs.list',',')\n",
    "                                     \n",
    "#Data for compounds\n",
    "gdi_inchikey_data = pipeline_functions.smiles_to_inchikey(gdi,'smiles')\n",
    "gdi_inchikey_data = gdi_inchikey_data[['orf','inchiKey']]                               \n",
    "tested_compounds_data = pipeline_functions.read_dataframe_columns('data/tested_drugs_inchikey.csv',',')\n",
    "available_compounds_data = pipeline_functions.read_dataframe_columns('data/drug_availability_inchikey.csv',',')"
   ]
  },
  {
   "cell_type": "markdown",
   "id": "e3aac052",
   "metadata": {},
   "source": [
    "# Genes filtering"
   ]
  },
  {
   "cell_type": "code",
   "execution_count": 144,
   "id": "74c786f9",
   "metadata": {
    "scrolled": true
   },
   "outputs": [],
   "source": [
    "# Assign OMCL to S. cerevisiae genes\n",
    "genes_data_yeast_intersection = pipeline_functions.data_intersection(gdi_inchikey_data,yeast_genes_data,'orf','gene_name',\"OMCL in Yeast\",'orf')\n",
    "genes_data_yeast = genes_data_yeast_intersection[0]\n",
    "genes_data_yeast = genes_data_yeast[['gene_name','omcl','inchiKey']]\n",
    "genes_data_yeast = genes_data_yeast.drop_duplicates()\n",
    "genes_data_yeast = genes_data_yeast.dropna()"
   ]
  },
  {
   "cell_type": "code",
   "execution_count": 145,
   "id": "79945ee4",
   "metadata": {},
   "outputs": [],
   "source": [
    "# Select T. cruzi genes with shared OMCL\n",
    "genes_data_yeast_tryp_intersection = pipeline_functions.data_intersection(genes_data_yeast ,tryp_genes_data,'omcl','omcl',\"OMCL in Tryps\", \"omcl\")\n",
    "genes_data_yeast_tryp = genes_data_yeast_tryp_intersection[0]\n",
    "genes_data_yeast_tryp = genes_data_yeast_tryp[['gene_name_y','omcl','inchiKey']]\n",
    "genes_data_yeast_tryp = genes_data_yeast_tryp.drop_duplicates()\n",
    "genes_data_yeast_tryp = genes_data_yeast_tryp.dropna()"
   ]
  },
  {
   "cell_type": "code",
   "execution_count": 146,
   "id": "733ba317",
   "metadata": {
    "scrolled": true
   },
   "outputs": [],
   "source": [
    "# Select Essential genes\n",
    "genes_data_yeast_tryp_essential_intersection = pipeline_functions.data_intersection(genes_data_yeast_tryp,essential_gene_data,'omcl','omcl',\"Essentiality\", \"omcl\")\n",
    "genes_data_yeast_tryp_essential = genes_data_yeast_tryp_essential_intersection[0]"
   ]
  },
  {
   "cell_type": "code",
   "execution_count": 147,
   "id": "60cc0d90",
   "metadata": {},
   "outputs": [],
   "source": [
    "# Set promiscuity threshold\n",
    "umbral=200\n",
    "genes_count = genes_data_yeast_tryp_essential.groupby('gene_name_y').nunique()\n",
    "genes_count = genes_count.sort_values(by=['inchiKey'])\n",
    "genes_count = genes_count[genes_count['inchiKey']<umbral]\n",
    "genes_count = genes_count.unstack(level=-1).reset_index().drop('level_0', axis=1)\n",
    "genes_count = genes_count.drop_duplicates()\n",
    "gene_selection = pd.merge(left=gdi_inchikey_data,right=genes_count,how=\"inner\",left_on=['orf'], right_on=['gene_name_y'])\n",
    "gene_selection = gene_selection[['orf','inchiKey']]"
   ]
  },
  {
   "cell_type": "code",
   "execution_count": 148,
   "id": "afda1316",
   "metadata": {},
   "outputs": [],
   "source": [
    "#Create a df with deleted data\n",
    "not_selected_genes = pd.concat([genes_data_yeast_intersection[1], genes_data_yeast_tryp_intersection[1], genes_data_yeast_tryp_essential_intersection[1]], ignore_index=False)"
   ]
  },
  {
   "cell_type": "code",
   "execution_count": 149,
   "id": "124d0e96",
   "metadata": {},
   "outputs": [
    {
     "name": "stdout",
     "output_type": "stream",
     "text": [
      "                                   Filter  Count\n",
      "0                     Full Dataset Length   5811\n",
      "1      Assign OMCL to S. cerevisiae genes   5008\n",
      "2  Select T. cruzi genes with shared OMCL   1780\n",
      "3                  Select Essential genes   1043\n",
      "4                Delete Promiscuous genes    996\n"
     ]
    }
   ],
   "source": [
    "#See results for selected data\n",
    "full_dataset_length = gdi_inchikey_data['orf'].nunique()\n",
    "assign_omcl_length = genes_data_yeast['gene_name'].nunique()\n",
    "select_t_cruzi_length = genes_data_yeast_tryp['gene_name_y'].nunique()\n",
    "select_essential_length = genes_data_yeast_tryp_essential['gene_name_y'].nunique()\n",
    "delete_promiscuous_length = gene_selection['orf'].nunique()\n",
    "\n",
    "results_selected_genes = pd.DataFrame({\n",
    "    'Filter': ['Full Dataset Length', 'Assign OMCL to S. cerevisiae genes',\n",
    "                'Select T. cruzi genes with shared OMCL',\n",
    "                'Select Essential genes', 'Delete Promiscuous genes'],\n",
    "    'Count': [full_dataset_length, assign_omcl_length, select_t_cruzi_length,\n",
    "              select_essential_length, delete_promiscuous_length]\n",
    "})\n",
    "\n",
    "print(results_selected_genes)"
   ]
  },
  {
   "cell_type": "code",
   "execution_count": 150,
   "id": "d05c2db1",
   "metadata": {},
   "outputs": [
    {
     "name": "stdout",
     "output_type": "stream",
     "text": [
      "          Filter  Count\n",
      "0  OMCL in Tryps   2867\n",
      "1   Essentiality    610\n",
      "2  OMCL in Yeast    570\n"
     ]
    }
   ],
   "source": [
    "#See results for not selected data\n",
    "count_not_selected_genes = not_selected_genes['Filter Name'].value_counts()\n",
    "results_not_selected_genes = pd.DataFrame(count_not_selected_genes).reset_index()\n",
    "results_not_selected_genes.columns = ['Filter', 'Count']\n",
    "print(results_not_selected_genes)"
   ]
  },
  {
   "cell_type": "markdown",
   "id": "9998bf9d",
   "metadata": {},
   "source": [
    "# Analysis of genes filter"
   ]
  },
  {
   "cell_type": "code",
   "execution_count": 151,
   "id": "bce2991f",
   "metadata": {},
   "outputs": [],
   "source": [
    "results_analysis_yeast = pipeline_functions.data_intersection(gdi_inchikey_data,genes_data_yeast,'orf','gene_name','Merged data','orf')"
   ]
  },
  {
   "cell_type": "code",
   "execution_count": 152,
   "id": "2aa29942",
   "metadata": {},
   "outputs": [],
   "source": [
    "results_analysis_yeast = results_analysis_yeast[0]\n",
    "results_analysis_yeast = results_analysis_yeast[['gene_name','omcl','inchiKey_y']]\n",
    "results_analysis_yeast = results_analysis_yeast.drop_duplicates()\n",
    "results_analysis_yeast = results_analysis_yeast.dropna()"
   ]
  },
  {
   "cell_type": "code",
   "execution_count": 153,
   "id": "26f8623e",
   "metadata": {},
   "outputs": [
    {
     "name": "stdout",
     "output_type": "stream",
     "text": [
      "234365\n",
      "5008\n",
      "2761\n"
     ]
    }
   ],
   "source": [
    "print(len(results_analysis_yeast))\n",
    "print(len(results_analysis_yeast['gene_name'].unique()))\n",
    "print(len(results_analysis_yeast['inchiKey_y'].unique()))"
   ]
  },
  {
   "cell_type": "code",
   "execution_count": 154,
   "id": "f1e2abcd",
   "metadata": {},
   "outputs": [],
   "source": [
    "results_analysis_yeast_tryp = pipeline_functions.data_intersection(gdi_inchikey_data,genes_data_yeast_tryp,'orf','gene_name_y','Merged data','orf')"
   ]
  },
  {
   "cell_type": "code",
   "execution_count": 155,
   "id": "0a9d6c64",
   "metadata": {},
   "outputs": [],
   "source": [
    "results_analysis_yeast_tryp = results_analysis_yeast_tryp[0]\n",
    "results_analysis_yeast_tryp = results_analysis_yeast_tryp[['gene_name_y','omcl','inchiKey_y']]\n",
    "results_analysis_yeast_tryp = results_analysis_yeast_tryp.drop_duplicates()\n",
    "results_analysis_yeast_tryp = results_analysis_yeast_tryp.dropna()"
   ]
  },
  {
   "cell_type": "code",
   "execution_count": 156,
   "id": "101ab5a7",
   "metadata": {},
   "outputs": [
    {
     "name": "stdout",
     "output_type": "stream",
     "text": [
      "All associations with ortholog\n",
      "87366\n",
      "All genes with ortholog\n",
      "1780\n",
      "All compounds with ortholog\n",
      "2405\n"
     ]
    }
   ],
   "source": [
    "print(\"All associations with ortholog\")\n",
    "print(len(results_analysis_yeast_tryp))\n",
    "print(\"All genes with ortholog\")\n",
    "print(len(results_analysis_yeast_tryp['gene_name_y'].unique()))\n",
    "print(\"All compounds with ortholog\")\n",
    "print(len(results_analysis_yeast_tryp['inchiKey_y'].unique()))"
   ]
  },
  {
   "cell_type": "code",
   "execution_count": 157,
   "id": "702c689b",
   "metadata": {},
   "outputs": [],
   "source": [
    "results_analysis_yeast_tryp_essential = pipeline_functions.data_intersection(gdi_inchikey_data,genes_data_yeast_tryp_essential,'orf','gene_name_y','Merged data','orf')"
   ]
  },
  {
   "cell_type": "code",
   "execution_count": 158,
   "id": "3b7c04db",
   "metadata": {},
   "outputs": [],
   "source": [
    "results_analysis_yeast_tryp_essential = results_analysis_yeast_tryp_essential[0]\n",
    "results_analysis_yeast_tryp_essential = results_analysis_yeast_tryp_essential[['gene_name_y','omcl','inchiKey_y']]\n",
    "results_analysis_yeast_tryp_essential = results_analysis_yeast_tryp_essential.drop_duplicates()\n",
    "results_analysis_yeast_tryp_essential = results_analysis_yeast_tryp_essential.dropna()"
   ]
  },
  {
   "cell_type": "code",
   "execution_count": 159,
   "id": "b5b79c78",
   "metadata": {},
   "outputs": [
    {
     "name": "stdout",
     "output_type": "stream",
     "text": [
      "All essential associations\n",
      "52907\n",
      "All essential genes\n",
      "1043\n",
      "All essential compounds\n",
      "2171\n"
     ]
    }
   ],
   "source": [
    "print(\"All essential associations\")\n",
    "print(len(results_analysis_yeast_tryp_essential))\n",
    "print(\"All essential genes\")\n",
    "print(len(results_analysis_yeast_tryp_essential['gene_name_y'].unique()))\n",
    "print(\"All essential compounds\")\n",
    "print(len(results_analysis_yeast_tryp_essential['inchiKey_y'].unique()))"
   ]
  },
  {
   "cell_type": "code",
   "execution_count": 160,
   "id": "d3522180",
   "metadata": {},
   "outputs": [],
   "source": [
    "results_analysis_yeast_tryp_essential_merged = pipeline_functions.data_intersection(gdi_inchikey_data,gene_selection,'orf','orf','Merged data','orf')"
   ]
  },
  {
   "cell_type": "code",
   "execution_count": 161,
   "id": "f6f4cd3a",
   "metadata": {},
   "outputs": [],
   "source": [
    "results_analysis_yeast_tryp_essential_merged = results_analysis_yeast_tryp_essential_merged[0]\n",
    "results_analysis_yeast_tryp_essential_merged = results_analysis_yeast_tryp_essential_merged[['orf','inchiKey_y']]\n",
    "results_analysis_yeast_tryp_essential_merged = results_analysis_yeast_tryp_essential_merged.drop_duplicates()\n",
    "results_analysis_yeast_tryp_essential_merged = results_analysis_yeast_tryp_essential_merged.dropna()"
   ]
  },
  {
   "cell_type": "code",
   "execution_count": 162,
   "id": "74888890",
   "metadata": {},
   "outputs": [
    {
     "name": "stdout",
     "output_type": "stream",
     "text": [
      "All merged associations\n",
      "39631\n",
      "All merged genes\n",
      "996\n",
      "All merged compounds\n",
      "1326\n"
     ]
    }
   ],
   "source": [
    "print(\"All merged associations\")\n",
    "print(len(results_analysis_yeast_tryp_essential_merged))\n",
    "print(\"All merged genes\")\n",
    "print(len(results_analysis_yeast_tryp_essential_merged['orf'].unique()))\n",
    "print(\"All merged compounds\")\n",
    "print(len(results_analysis_yeast_tryp_essential_merged['inchiKey_y'].unique()))"
   ]
  },
  {
   "cell_type": "markdown",
   "id": "ef07ad55",
   "metadata": {},
   "source": [
    "# Compounds filtering"
   ]
  },
  {
   "cell_type": "code",
   "execution_count": 163,
   "id": "54b88048",
   "metadata": {},
   "outputs": [],
   "source": [
    "# Select novel compounds\n",
    "compounds_data_tested_intersection = pipeline_functions.data_not_in_intersection(gdi_inchikey_data,tested_compounds_data,'inchiKey','inchikey','Tested compound')\n",
    "compounds_data_tested = compounds_data_tested_intersection[0]\n",
    "compounds_data_tested = compounds_data_tested[['orf','inchiKey']]\n",
    "compounds_data_tested = compounds_data_tested.drop_duplicates()\n",
    "compounds_data_tested = compounds_data_tested.dropna()"
   ]
  },
  {
   "cell_type": "code",
   "execution_count": 164,
   "id": "2bf799e5",
   "metadata": {},
   "outputs": [],
   "source": [
    "# Select commercially available compounds\n",
    "compounds_data_tested_available_intersection = pipeline_functions.data_intersection(gdi_inchikey_data,available_compounds_data,'inchiKey','inchikey','Commercially available','inchiKey')\n",
    "compounds_data_tested_available = compounds_data_tested_available_intersection[0]\n",
    "compounds_data_tested_available = compounds_data_tested_available[['orf','inchiKey','smiles']]\n",
    "compounds_data_tested_available = compounds_data_tested_available.drop_duplicates()\n",
    "compounds_data_tested_available = compounds_data_tested_available.dropna()"
   ]
  },
  {
   "cell_type": "code",
   "execution_count": 165,
   "id": "e96431b6",
   "metadata": {},
   "outputs": [],
   "source": [
    "# Select drug like and lead like compounds\n",
    "compounds_data_tested_available_druglike_function = pipeline_functions.drug_likness(compounds_data_tested_available,'smiles')\n",
    "compounds_data_tested_available_druglike = compounds_data_tested_available_druglike_function[0]\n",
    "compounds_data_tested_available_druglike = compounds_data_tested_available_druglike[['orf','inchiKey','smiles']]\n",
    "compounds_data_tested_available_druglike = compounds_data_tested_available_druglike.drop_duplicates()\n",
    "compounds_data_tested_available_druglike = compounds_data_tested_available_druglike.dropna()"
   ]
  },
  {
   "cell_type": "code",
   "execution_count": 166,
   "id": "37e5c3ec",
   "metadata": {},
   "outputs": [],
   "source": [
    "# Set promiscuity threshold\n",
    "umbral=20\n",
    "drug_count = compounds_data_tested_available_druglike.groupby('inchiKey').nunique()\n",
    "drug_count = drug_count.sort_values(by=['orf'])\n",
    "drug_count = drug_count[drug_count['orf']<umbral]\n",
    "drug_count = drug_count.unstack(level=-1).reset_index().drop('level_0', axis=1)\n",
    "drug_count = drug_count.drop_duplicates()\n",
    "\n",
    "drug_selection = pd.merge(left=gdi_inchikey_data,right=drug_count,how=\"inner\",left_on=['inchiKey'], right_on=['inchiKey'])"
   ]
  },
  {
   "cell_type": "code",
   "execution_count": 167,
   "id": "e3f895e6",
   "metadata": {},
   "outputs": [],
   "source": [
    "#Create a df with deleted data\n",
    "not_selected_compounds = pd.concat([compounds_data_tested_intersection[1], compounds_data_tested_available_intersection[1], compounds_data_tested_available_druglike_function[1]], ignore_index=False)"
   ]
  },
  {
   "cell_type": "code",
   "execution_count": 168,
   "id": "6378e03f",
   "metadata": {},
   "outputs": [
    {
     "data": {
      "text/html": [
       "<div>\n",
       "<style scoped>\n",
       "    .dataframe tbody tr th:only-of-type {\n",
       "        vertical-align: middle;\n",
       "    }\n",
       "\n",
       "    .dataframe tbody tr th {\n",
       "        vertical-align: top;\n",
       "    }\n",
       "\n",
       "    .dataframe thead th {\n",
       "        text-align: right;\n",
       "    }\n",
       "</style>\n",
       "<table border=\"1\" class=\"dataframe\">\n",
       "  <thead>\n",
       "    <tr style=\"text-align: right;\">\n",
       "      <th></th>\n",
       "      <th>orf</th>\n",
       "      <th>inchiKey</th>\n",
       "      <th>0</th>\n",
       "    </tr>\n",
       "  </thead>\n",
       "  <tbody>\n",
       "    <tr>\n",
       "      <th>0</th>\n",
       "      <td>YAR002W</td>\n",
       "      <td>SSPYSWLZOPCOLO-UHFFFAOYSA-N</td>\n",
       "      <td>9</td>\n",
       "    </tr>\n",
       "    <tr>\n",
       "      <th>1</th>\n",
       "      <td>YAR002W</td>\n",
       "      <td>SSPYSWLZOPCOLO-UHFFFAOYSA-N</td>\n",
       "      <td>1</td>\n",
       "    </tr>\n",
       "  </tbody>\n",
       "</table>\n",
       "</div>"
      ],
      "text/plain": [
       "       orf                     inchiKey  0\n",
       "0  YAR002W  SSPYSWLZOPCOLO-UHFFFAOYSA-N  9\n",
       "1  YAR002W  SSPYSWLZOPCOLO-UHFFFAOYSA-N  1"
      ]
     },
     "execution_count": 168,
     "metadata": {},
     "output_type": "execute_result"
    }
   ],
   "source": [
    "drug_selection.head(2)"
   ]
  },
  {
   "cell_type": "code",
   "execution_count": 169,
   "id": "3b2ffbaf",
   "metadata": {},
   "outputs": [
    {
     "name": "stdout",
     "output_type": "stream",
     "text": [
      "                                    Filter  Count\n",
      "0                      Full Dataset Length   2771\n",
      "1                  Delete tested compounds   2722\n",
      "2  Select commercially available compounds   1195\n",
      "3                Select druglike compounds   1126\n",
      "4             Delete Promiscuous compounds    745\n"
     ]
    }
   ],
   "source": [
    "#See results for selected data\n",
    "full_dataset_length = gdi_inchikey_data['inchiKey'].nunique()\n",
    "tested_length = compounds_data_tested['inchiKey'].nunique()\n",
    "avaiable_length = compounds_data_tested_available['inchiKey'].nunique()\n",
    "druglike_length = compounds_data_tested_available_druglike['inchiKey'].nunique()\n",
    "delete_promiscuous_length = drug_selection['inchiKey'].nunique()\n",
    "\n",
    "results_selected_compounds = pd.DataFrame({\n",
    "    'Filter': ['Full Dataset Length', 'Delete tested compounds',\n",
    "                'Select commercially available compounds',\n",
    "                'Select druglike compounds', 'Delete Promiscuous compounds'],\n",
    "    'Count': [full_dataset_length, tested_length, avaiable_length,\n",
    "              druglike_length, delete_promiscuous_length]\n",
    "})\n",
    "\n",
    "print(results_selected_compounds)"
   ]
  },
  {
   "cell_type": "code",
   "execution_count": 170,
   "id": "0c02635e",
   "metadata": {},
   "outputs": [
    {
     "name": "stdout",
     "output_type": "stream",
     "text": [
      "                   Filter  Count\n",
      "0            Not Druglike  30014\n",
      "1         Tested compound  24570\n",
      "2  Commercially available   1576\n"
     ]
    }
   ],
   "source": [
    "#See results for not selected data\n",
    "count_not_selected_compounds = not_selected_compounds['Filter Name'].value_counts()\n",
    "results_not_selected_compounds = pd.DataFrame(count_not_selected_compounds).reset_index()\n",
    "results_not_selected_compounds.columns = ['Filter', 'Count']\n",
    "print(results_not_selected_compounds)"
   ]
  },
  {
   "cell_type": "markdown",
   "id": "c09089a6",
   "metadata": {},
   "source": [
    "# Analysis of compounds filter"
   ]
  },
  {
   "cell_type": "code",
   "execution_count": null,
   "id": "3b7dea51",
   "metadata": {},
   "outputs": [],
   "source": [
    "results_analysis_tested = pipeline_functions.data_intersection(gdi_inchikey_data,compounds_data_tested,'inchiKey','inchiKey','Merged data','inchiKey')"
   ]
  },
  {
   "cell_type": "code",
   "execution_count": null,
   "id": "7f9b1092",
   "metadata": {},
   "outputs": [],
   "source": [
    "results_analysis_tested = results_analysis_tested[0]\n",
    "results_analysis_tested = results_analysis_tested[['orf_y','inchiKey']]\n",
    "results_analysis_tested = results_analysis_tested.drop_duplicates()\n",
    "results_analysis_tested = results_analysis_tested.dropna()"
   ]
  },
  {
   "cell_type": "code",
   "execution_count": null,
   "id": "83b0fff4",
   "metadata": {},
   "outputs": [
    {
     "name": "stdout",
     "output_type": "stream",
     "text": [
      "5220\n",
      "1195\n"
     ]
    }
   ],
   "source": [
    "print(\"All novel associations\")\n",
    "print(len(results_analysis_tested))\n",
    "print(\"All novel genes\")\n",
    "print(len(results_analysis_tested['orf_y'].unique()))\n",
    "print(\"All novel compounds\")\n",
    "print(len(results_analysis_tested['inchiKey'].unique()))"
   ]
  },
  {
   "cell_type": "code",
   "execution_count": 172,
   "id": "18d852b1",
   "metadata": {},
   "outputs": [],
   "source": [
    "results_analysis_tested_available = pipeline_functions.data_intersection(gdi_inchikey_data,compounds_data_tested_available,'inchiKey','inchiKey','Merged data','inchiKey')"
   ]
  },
  {
   "cell_type": "code",
   "execution_count": null,
   "id": "63f758fd",
   "metadata": {},
   "outputs": [],
   "source": [
    "results_analysis_tested_available = results_analysis_tested_available[0]\n",
    "results_analysis_tested_available = results_analysis_tested_available[['orf_y','inchiKey']]\n",
    "results_analysis_tested_available = results_analysis_tested_available.drop_duplicates()\n",
    "results_analysis_tested_available = results_analysis_tested_available.dropna()"
   ]
  },
  {
   "cell_type": "code",
   "execution_count": null,
   "id": "de5be725",
   "metadata": {},
   "outputs": [
    {
     "name": "stdout",
     "output_type": "stream",
     "text": [
      "5115\n",
      "1126\n"
     ]
    }
   ],
   "source": [
    "print(\"All available associations\")\n",
    "print(len(results_analysis_tested_available))\n",
    "print(\"All available genes\")\n",
    "print(len(results_analysis_tested_available['orf_y'].unique()))\n",
    "print(\"All available compounds\")\n",
    "print(len(results_analysis_tested_available['inchiKey'].unique()))"
   ]
  },
  {
   "cell_type": "code",
   "execution_count": null,
   "id": "450ac7c6",
   "metadata": {},
   "outputs": [],
   "source": [
    "compounds_data_tested_available_druglike = pipeline_functions.data_intersection(gdi_inchikey_data,compounds_data_tested_available_druglike,'inchiKey','inchiKey','Merged data','inchiKey')"
   ]
  },
  {
   "cell_type": "code",
   "execution_count": null,
   "id": "4177252b",
   "metadata": {},
   "outputs": [],
   "source": [
    "compounds_data_tested_available_druglike = compounds_data_tested_available_druglike[0]\n",
    "compounds_data_tested_available_druglike = compounds_data_tested_available_druglike[['orf_y','inchiKey']]\n",
    "compounds_data_tested_available_druglike = compounds_data_tested_available_druglike.drop_duplicates()\n",
    "compounds_data_tested_available_druglike = compounds_data_tested_available_druglike.dropna()"
   ]
  },
  {
   "cell_type": "code",
   "execution_count": null,
   "id": "500e0ba2",
   "metadata": {},
   "outputs": [
    {
     "name": "stdout",
     "output_type": "stream",
     "text": [
      "310\n",
      "745\n"
     ]
    }
   ],
   "source": [
    "print(\"All druglike associations\")\n",
    "print(len(compounds_data_tested_available_druglike))\n",
    "print(\"All druglike genes\")\n",
    "print(len(compounds_data_tested_available_druglike['orf_y'].unique()))\n",
    "print(\"All druglike compounds\")\n",
    "print(len(compounds_data_tested_available_druglike['inchiKey'].unique()))"
   ]
  },
  {
   "cell_type": "markdown",
   "id": "aad76d5f",
   "metadata": {},
   "source": [
    "# Data merge"
   ]
  },
  {
   "cell_type": "code",
   "execution_count": 174,
   "id": "0a0b4ad0",
   "metadata": {},
   "outputs": [],
   "source": [
    "results = pipeline_functions.data_intersection(drug_selection,gene_selection,'inchiKey','inchiKey','Merged data','inchiKey')"
   ]
  },
  {
   "cell_type": "code",
   "execution_count": 175,
   "id": "b2341855",
   "metadata": {},
   "outputs": [],
   "source": [
    "results_selected = results[0]\n",
    "results_selected = results_selected[['orf_x','inchiKey']]\n",
    "results_selected = results_selected.rename(columns={'orf_x':'orf'}) \n",
    "results_selected = results_selected.drop_duplicates()\n",
    "results_selected = results_selected.dropna()"
   ]
  },
  {
   "cell_type": "code",
   "execution_count": 178,
   "id": "2659e581",
   "metadata": {},
   "outputs": [
    {
     "name": "stdout",
     "output_type": "stream",
     "text": [
      "All merged associations\n",
      "246\n",
      "All merged genes\n",
      "73\n",
      "All merged compounds\n",
      "189\n"
     ]
    }
   ],
   "source": [
    "print(\"All merged associations\")\n",
    "print(len(results_selected))\n",
    "print(\"All merged genes\")\n",
    "print(len(results_selected['orf'].unique()))\n",
    "print(\"All merged compounds\")\n",
    "print(len(results_selected['inchiKey'].unique()))"
   ]
  },
  {
   "cell_type": "code",
   "execution_count": 180,
   "id": "01f3e0db",
   "metadata": {},
   "outputs": [],
   "source": [
    "results_selected.to_csv('results/gdi_results.csv')"
   ]
  },
  {
   "cell_type": "code",
   "execution_count": 181,
   "id": "907ad2fe",
   "metadata": {},
   "outputs": [],
   "source": [
    "not_selected_data = pd.concat([results[1], not_selected_genes, not_selected_compounds], ignore_index=False)"
   ]
  },
  {
   "cell_type": "code",
   "execution_count": 182,
   "id": "71bfd48b",
   "metadata": {},
   "outputs": [],
   "source": [
    "not_selected_data = not_selected_data[['inchiKey','orf','Filter Name']]"
   ]
  },
  {
   "cell_type": "code",
   "execution_count": 183,
   "id": "776b938c",
   "metadata": {},
   "outputs": [
    {
     "name": "stdout",
     "output_type": "stream",
     "text": [
      "                   Filter  Count\n",
      "0            Not Druglike  30014\n",
      "1         Tested compound  24570\n",
      "2           OMCL in Tryps   2867\n",
      "3  Commercially available   1576\n",
      "4            Essentiality    610\n",
      "5           OMCL in Yeast    570\n",
      "6             Merged data    556\n"
     ]
    }
   ],
   "source": [
    "#See results for not selected data\n",
    "count_not_selected_data = not_selected_data['Filter Name'].value_counts()\n",
    "results_not_selected_data = pd.DataFrame(count_not_selected_data).reset_index()\n",
    "results_not_selected_data.columns = ['Filter', 'Count']\n",
    "print(results_not_selected_data)"
   ]
  },
  {
   "cell_type": "code",
   "execution_count": 184,
   "id": "8221bff8",
   "metadata": {},
   "outputs": [],
   "source": [
    "not_selected_data.to_csv('results/gdi_not_selected_data.csv')"
   ]
  }
 ],
 "metadata": {
  "kernelspec": {
   "display_name": "Python 3 (ipykernel)",
   "language": "python",
   "name": "python3"
  },
  "language_info": {
   "codemirror_mode": {
    "name": "ipython",
    "version": 3
   },
   "file_extension": ".py",
   "mimetype": "text/x-python",
   "name": "python",
   "nbconvert_exporter": "python",
   "pygments_lexer": "ipython3",
   "version": "3.9.15"
  }
 },
 "nbformat": 4,
 "nbformat_minor": 5
}
