{
 "cells": [
  {
   "cell_type": "code",
   "execution_count": 1,
   "id": "a0c47e30",
   "metadata": {},
   "outputs": [
    {
     "data": {
      "text/plain": [
       "<module 'pipeline_functions' from 'C:\\\\Users\\\\Mercedes_IIB-UNSAM\\\\Desktop\\\\2021\\\\pipeline_functions.py'>"
      ]
     },
     "execution_count": 1,
     "metadata": {},
     "output_type": "execute_result"
    }
   ],
   "source": [
    "#Import modules\n",
    "import pandas \n",
    "import os\n",
    "import pipeline_functions\n",
    "from importlib import reload # reload \n",
    "reload(pipeline_functions)"
   ]
  },
  {
   "cell_type": "code",
   "execution_count": 3,
   "id": "ed66a7d1",
   "metadata": {},
   "outputs": [],
   "source": [
    "#Data import\n",
    "path = 'Path'\n",
    "os.chdir(path)\n",
    "in_file = 'gene_drug_interaction'\n",
    "gdi = pandas.read_csv(in_file,sep='\\t')\n",
    "\n",
    "#Data for genes\n",
    "filtro_genes_1 = pipeline_functions.leer_tabla_columnas(\"yeast.genes.list\",'\\t',['species_code', 'gene_name', 'omcl'])\n",
    "filtro_genes_2 = pipeline_functions.leer_tabla_columnas(\"tryp.genes.list\",'\\t',['species_code', 'gene_name', 'omcl'])\n",
    "filtro_genes_3 = pipeline_functions.leer_tabla_columnas('tbr.essentialOrthologs.list',',')\n",
    "                                     \n",
    "#Data for compounds\n",
    "gdi_inchikey = pipeline_functions.smiles_to_inchikey(gdi,'smiles')                               \n",
    "filtro_compuestos_1 = pipeline_functions.leer_tabla_columnas('tested_drugs_inchikey.csv',',')\n",
    "filtro_compuestos_2 = pipeline_functions.leer_tabla_columnas('drug_availability_inchikey.csv',',')\n",
    "\n",
    "gdi_inchikey = gdi_inchikey[['orf','inchiKey']]"
   ]
  },
  {
   "cell_type": "markdown",
   "id": "e3aac052",
   "metadata": {},
   "source": [
    "# Genes filtering"
   ]
  },
  {
   "cell_type": "code",
   "execution_count": 4,
   "id": "74c786f9",
   "metadata": {
    "scrolled": true
   },
   "outputs": [],
   "source": [
    "# Assign OMCL to S. cerevisiae genes\n",
    "resultado_filtro_genes_1 = pipeline_functions.interseccion_datos(gdi_inchikey,filtro_genes_1,'orf','gene_name',\"OMCL in Yeast\",'orf')\n",
    "resultado_genes_1 = resultado_filtro_genes_1[0]\n",
    "resultado_genes_1 = resultado_genes_1[['gene_name','omcl','inchiKey']]\n",
    "resultado_genes_1 = resultado_genes_1.drop_duplicates()\n",
    "resultado_genes_1 = resultado_genes_1.dropna()"
   ]
  },
  {
   "cell_type": "code",
   "execution_count": 5,
   "id": "79945ee4",
   "metadata": {},
   "outputs": [],
   "source": [
    "# Select T. cruzi genes with shared OMCL\n",
    "resultado_filtro_genes_2 = pipeline_functions.interseccion_datos(resultado_genes_1 ,filtro_genes_2,'omcl','omcl',\"OMCL in Tryps\", \"omcl\")\n",
    "resultado_genes_2 = resultado_filtro_genes_2[0]\n",
    "resultado_genes_2 = resultado_genes_2[['gene_name_y','omcl','inchiKey']]\n",
    "resultado_genes_2 = resultado_genes_2.drop_duplicates()\n",
    "resultado_genes_2 = resultado_genes_2.dropna()"
   ]
  },
  {
   "cell_type": "code",
   "execution_count": 6,
   "id": "733ba317",
   "metadata": {
    "scrolled": true
   },
   "outputs": [],
   "source": [
    "# Select Essential genes\n",
    "resultado_filtro_genes_3 = pipeline_functions.interseccion_datos(resultado_genes_2,filtro_genes_3,'omcl','omcl',\"Essentiality\", \"omcl\")\n",
    "resultado_genes_3 = resultado_filtro_genes_2[0]"
   ]
  },
  {
   "cell_type": "code",
   "execution_count": 7,
   "id": "60cc0d90",
   "metadata": {},
   "outputs": [],
   "source": [
    "# Set promiscuity threshold\n",
    "umbral=200\n",
    "genes_count = resultado_filtro_genes_3[0].groupby('gene_name_y').nunique()\n",
    "genes_count = genes_count.sort_values(by=['inchiKey'])\n",
    "genes_count = genes_count[genes_count['inchiKey']<umbral]\n",
    "genes_count = genes_count.unstack(level=-1).reset_index().drop('level_0', axis=1)\n",
    "genes_count = genes_count.drop_duplicates()\n",
    "gene_selection = pandas.merge(left=gdi_inchikey,right=genes_count,how=\"inner\",left_on=['orf'], right_on=['gene_name_y'])\n",
    "gene_selection = gene_selection[['orf','inchiKey']]"
   ]
  },
  {
   "cell_type": "code",
   "execution_count": 8,
   "id": "fccc1849",
   "metadata": {},
   "outputs": [
    {
     "data": {
      "text/html": [
       "<div>\n",
       "<style scoped>\n",
       "    .dataframe tbody tr th:only-of-type {\n",
       "        vertical-align: middle;\n",
       "    }\n",
       "\n",
       "    .dataframe tbody tr th {\n",
       "        vertical-align: top;\n",
       "    }\n",
       "\n",
       "    .dataframe thead th {\n",
       "        text-align: right;\n",
       "    }\n",
       "</style>\n",
       "<table border=\"1\" class=\"dataframe\">\n",
       "  <thead>\n",
       "    <tr style=\"text-align: right;\">\n",
       "      <th></th>\n",
       "      <th>gene_name_y</th>\n",
       "      <th>0</th>\n",
       "    </tr>\n",
       "  </thead>\n",
       "  <tbody>\n",
       "    <tr>\n",
       "      <th>0</th>\n",
       "      <td>YDR424C</td>\n",
       "      <td>1</td>\n",
       "    </tr>\n",
       "    <tr>\n",
       "      <th>1</th>\n",
       "      <td>YPL217C</td>\n",
       "      <td>1</td>\n",
       "    </tr>\n",
       "    <tr>\n",
       "      <th>2</th>\n",
       "      <td>YGR037C</td>\n",
       "      <td>1</td>\n",
       "    </tr>\n",
       "    <tr>\n",
       "      <th>3</th>\n",
       "      <td>YDR447C</td>\n",
       "      <td>1</td>\n",
       "    </tr>\n",
       "    <tr>\n",
       "      <th>4</th>\n",
       "      <td>YKL172W</td>\n",
       "      <td>1</td>\n",
       "    </tr>\n",
       "    <tr>\n",
       "      <th>...</th>\n",
       "      <td>...</td>\n",
       "      <td>...</td>\n",
       "    </tr>\n",
       "    <tr>\n",
       "      <th>1987</th>\n",
       "      <td>YKL203C</td>\n",
       "      <td>181</td>\n",
       "    </tr>\n",
       "    <tr>\n",
       "      <th>1988</th>\n",
       "      <td>YPL273W</td>\n",
       "      <td>190</td>\n",
       "    </tr>\n",
       "    <tr>\n",
       "      <th>1989</th>\n",
       "      <td>YOR265W</td>\n",
       "      <td>197</td>\n",
       "    </tr>\n",
       "    <tr>\n",
       "      <th>1990</th>\n",
       "      <td>YPL240C</td>\n",
       "      <td>198</td>\n",
       "    </tr>\n",
       "    <tr>\n",
       "      <th>1991</th>\n",
       "      <td>YAL035W</td>\n",
       "      <td>198</td>\n",
       "    </tr>\n",
       "  </tbody>\n",
       "</table>\n",
       "<p>1981 rows × 2 columns</p>\n",
       "</div>"
      ],
      "text/plain": [
       "     gene_name_y    0\n",
       "0        YDR424C    1\n",
       "1        YPL217C    1\n",
       "2        YGR037C    1\n",
       "3        YDR447C    1\n",
       "4        YKL172W    1\n",
       "...          ...  ...\n",
       "1987     YKL203C  181\n",
       "1988     YPL273W  190\n",
       "1989     YOR265W  197\n",
       "1990     YPL240C  198\n",
       "1991     YAL035W  198\n",
       "\n",
       "[1981 rows x 2 columns]"
      ]
     },
     "execution_count": 8,
     "metadata": {},
     "output_type": "execute_result"
    }
   ],
   "source": [
    "#See results\n",
    "genes_count"
   ]
  },
  {
   "cell_type": "code",
   "execution_count": 9,
   "id": "afda1316",
   "metadata": {},
   "outputs": [],
   "source": [
    "#Create a df with deleted data\n",
    "not_selected_genes = pandas.concat([resultado_filtro_genes_1[1], resultado_filtro_genes_2[1], resultado_filtro_genes_3[1]], ignore_index=False)"
   ]
  },
  {
   "cell_type": "markdown",
   "id": "9998bf9d",
   "metadata": {},
   "source": [
    "# Analysis of genes filter"
   ]
  },
  {
   "cell_type": "code",
   "execution_count": 10,
   "id": "bce2991f",
   "metadata": {},
   "outputs": [],
   "source": [
    "resultados_1 = pipeline_functions.interseccion_datos(gdi_inchikey,resultado_genes_1,'orf','gene_name','Merged data','orf')"
   ]
  },
  {
   "cell_type": "code",
   "execution_count": 11,
   "id": "2aa29942",
   "metadata": {},
   "outputs": [],
   "source": [
    "resultados_1 = resultados_1[0]\n",
    "resultados_1 = resultados_1[['gene_name','omcl','inchiKey_y']]\n",
    "resultados_1 = resultados_1.drop_duplicates()\n",
    "resultados_1 = resultados_1.dropna()"
   ]
  },
  {
   "cell_type": "code",
   "execution_count": 12,
   "id": "26f8623e",
   "metadata": {},
   "outputs": [
    {
     "name": "stdout",
     "output_type": "stream",
     "text": [
      "5008\n",
      "2761\n"
     ]
    }
   ],
   "source": [
    "resultados_1\n",
    "print(len(resultados_1['gene_name'].unique()))\n",
    "print(len(resultados_1['inchiKey_y'].unique()))"
   ]
  },
  {
   "cell_type": "code",
   "execution_count": 13,
   "id": "f1e2abcd",
   "metadata": {},
   "outputs": [],
   "source": [
    "resultados_2 = pipeline_functions.interseccion_datos(gdi_inchikey,resultado_genes_2,'orf','gene_name_y','Merged data','orf')"
   ]
  },
  {
   "cell_type": "code",
   "execution_count": 14,
   "id": "ec1aada4",
   "metadata": {},
   "outputs": [
    {
     "data": {
      "text/plain": [
       "(         gene_name_y        omcl                   inchiKey_x      orf  \\\n",
       " 0            YGL084C  OG5_128109  GHASVSINZRGABV-UHFFFAOYSA-N  YGL084C   \n",
       " 1            YGL084C  OG5_128109  GHASVSINZRGABV-UHFFFAOYSA-N  YGL084C   \n",
       " 2            YGL084C  OG5_128109  GHASVSINZRGABV-UHFFFAOYSA-N  YGL084C   \n",
       " 3            YGL084C  OG5_128109  GHASVSINZRGABV-UHFFFAOYSA-N  YGL084C   \n",
       " 4            YGL084C  OG5_128109  GHASVSINZRGABV-UHFFFAOYSA-N  YGL084C   \n",
       " ...              ...         ...                          ...      ...   \n",
       " 12538039     YPR058W  OG5_129197  JUVIOZPCNVVQFO-NDXORKPFSA-N  YPR058W   \n",
       " 12538040     YPR058W  OG5_129197  JUVIOZPCNVVQFO-NDXORKPFSA-N  YPR058W   \n",
       " 12538041     YPR058W  OG5_129197  JUVIOZPCNVVQFO-NDXORKPFSA-N  YPR058W   \n",
       " 12538042     YPR058W  OG5_129197  JUVIOZPCNVVQFO-NDXORKPFSA-N  YPR058W   \n",
       " 12538043     YPR058W  OG5_129197  JUVIOZPCNVVQFO-NDXORKPFSA-N  YPR058W   \n",
       " \n",
       "                            inchiKey_y  \n",
       " 0         GHASVSINZRGABV-UHFFFAOYSA-N  \n",
       " 1         XUKUURHRXDUEBC-KAYWLYCHSA-N  \n",
       " 2         FQCKMBLVYCEXJB-MNSAWQCASA-L  \n",
       " 3         XUKUURHRXDUEBC-SVBPBHIXSA-N  \n",
       " 4         ARUVKPQLZAKDPS-UHFFFAOYSA-L  \n",
       " ...                               ...  \n",
       " 12538039  OWPCHSCAPHNHAV-QIPOKPRISA-N  \n",
       " 12538040  OWPCHSCAPHNHAV-ZIVUNMQOSA-N  \n",
       " 12538041  JUVIOZPCNVVQFO-UHFFFAOYSA-N  \n",
       " 12538042  JUVIOZPCNVVQFO-HBGVWJBISA-N  \n",
       " 12538043  JUVIOZPCNVVQFO-NDXORKPFSA-N  \n",
       " \n",
       " [12538044 rows x 5 columns],\n",
       "           orf  Filter Name\n",
       " 0     YGR267C  Merged data\n",
       " 1     YOR236W  Merged data\n",
       " 2     YNL256W  Merged data\n",
       " 3     YPL021W  Merged data\n",
       " 4     YNL237W  Merged data\n",
       " ...       ...          ...\n",
       " 4027  YMR168C  Merged data\n",
       " 4028  YDL207W  Merged data\n",
       " 4029      NaN  Merged data\n",
       " 4030  YHR205W  Merged data\n",
       " 4031  YPL051W  Merged data\n",
       " \n",
       " [4032 rows x 2 columns])"
      ]
     },
     "execution_count": 14,
     "metadata": {},
     "output_type": "execute_result"
    }
   ],
   "source": [
    "resultados_2.head(2)\n"
   ]
  },
  {
   "cell_type": "code",
   "execution_count": 15,
   "id": "0a9d6c64",
   "metadata": {},
   "outputs": [],
   "source": [
    "resultados_2 = resultados_2[0]\n",
    "resultados_2 = resultados_2[['gene_name_y','omcl','inchiKey_y']]\n",
    "resultados_2 = resultados_2.drop_duplicates()\n",
    "resultados_2 = resultados_2.dropna()"
   ]
  },
  {
   "cell_type": "code",
   "execution_count": 16,
   "id": "101ab5a7",
   "metadata": {},
   "outputs": [
    {
     "name": "stdout",
     "output_type": "stream",
     "text": [
      "1780\n",
      "2405\n"
     ]
    }
   ],
   "source": [
    "resultados_2\n",
    "print(len(resultados_2['gene_name_y'].unique()))\n",
    "print(len(resultados_2['inchiKey_y'].unique()))"
   ]
  },
  {
   "cell_type": "code",
   "execution_count": 17,
   "id": "702c689b",
   "metadata": {},
   "outputs": [],
   "source": [
    "resultados_3 = pipeline_functions.interseccion_datos(gdi_inchikey,resultado_genes_3,'orf','gene_name_y','Merged data','orf')"
   ]
  },
  {
   "cell_type": "code",
   "execution_count": 18,
   "id": "3b7c04db",
   "metadata": {},
   "outputs": [],
   "source": [
    "resultados_3 = resultados_3[0]\n",
    "resultados_3 = resultados_3[['gene_name_y','omcl','inchiKey_y']]\n",
    "resultados_3 = resultados_3.drop_duplicates()\n",
    "resultados_3 = resultados_3.dropna()"
   ]
  },
  {
   "cell_type": "code",
   "execution_count": 19,
   "id": "b5b79c78",
   "metadata": {},
   "outputs": [
    {
     "name": "stdout",
     "output_type": "stream",
     "text": [
      "1780\n",
      "2405\n"
     ]
    }
   ],
   "source": [
    "resultados_3\n",
    "print(len(resultados_3['gene_name_y'].unique()))\n",
    "print(len(resultados_3['inchiKey_y'].unique()))"
   ]
  },
  {
   "cell_type": "code",
   "execution_count": 20,
   "id": "d3522180",
   "metadata": {},
   "outputs": [],
   "source": [
    "resultados_4 = pipeline_functions.interseccion_datos(gdi_inchikey,gene_selection,'orf','orf','Merged data','orf')"
   ]
  },
  {
   "cell_type": "code",
   "execution_count": 21,
   "id": "f6f4cd3a",
   "metadata": {},
   "outputs": [],
   "source": [
    "resultados_4 = resultados_4[0]\n",
    "resultados_4 = resultados_4[['orf','inchiKey_y']]\n",
    "resultados_4 = resultados_4.drop_duplicates()\n",
    "resultados_4 = resultados_4.dropna()"
   ]
  },
  {
   "cell_type": "code",
   "execution_count": 22,
   "id": "74888890",
   "metadata": {},
   "outputs": [
    {
     "name": "stdout",
     "output_type": "stream",
     "text": [
      "39631\n",
      "996\n",
      "1326\n"
     ]
    }
   ],
   "source": [
    "print(len(resultados_4))\n",
    "print(len(resultados_4['orf'].unique()))\n",
    "print(len(resultados_4['inchiKey_y'].unique()))"
   ]
  },
  {
   "cell_type": "code",
   "execution_count": 23,
   "id": "efaf8652",
   "metadata": {},
   "outputs": [
    {
     "data": {
      "text/html": [
       "<div>\n",
       "<style scoped>\n",
       "    .dataframe tbody tr th:only-of-type {\n",
       "        vertical-align: middle;\n",
       "    }\n",
       "\n",
       "    .dataframe tbody tr th {\n",
       "        vertical-align: top;\n",
       "    }\n",
       "\n",
       "    .dataframe thead th {\n",
       "        text-align: right;\n",
       "    }\n",
       "</style>\n",
       "<table border=\"1\" class=\"dataframe\">\n",
       "  <thead>\n",
       "    <tr style=\"text-align: right;\">\n",
       "      <th></th>\n",
       "      <th>orf</th>\n",
       "      <th>inchiKey_y</th>\n",
       "    </tr>\n",
       "  </thead>\n",
       "  <tbody>\n",
       "    <tr>\n",
       "      <th>0</th>\n",
       "      <td>YOR317W</td>\n",
       "      <td>FBOZXECLQNJBKD-UHFFFAOYSA-N</td>\n",
       "    </tr>\n",
       "    <tr>\n",
       "      <th>1</th>\n",
       "      <td>YOR317W</td>\n",
       "      <td>XRECTZIEBJDKEO-UHFFFAOYSA-N</td>\n",
       "    </tr>\n",
       "    <tr>\n",
       "      <th>2</th>\n",
       "      <td>YOR317W</td>\n",
       "      <td>XTPOJZQDRYWGAK-UHFFFAOYSA-P</td>\n",
       "    </tr>\n",
       "    <tr>\n",
       "      <th>4</th>\n",
       "      <td>YOR317W</td>\n",
       "      <td>ZPFXAOWNKLFJDN-UHFFFAOYSA-N</td>\n",
       "    </tr>\n",
       "    <tr>\n",
       "      <th>5</th>\n",
       "      <td>YOR317W</td>\n",
       "      <td>RYHCACJBKCOBTJ-UHFFFAOYSA-N</td>\n",
       "    </tr>\n",
       "    <tr>\n",
       "      <th>...</th>\n",
       "      <td>...</td>\n",
       "      <td>...</td>\n",
       "    </tr>\n",
       "    <tr>\n",
       "      <th>7755568</th>\n",
       "      <td>YNL067W</td>\n",
       "      <td>FNPHNLNTJNMAEE-UHFFFAOYSA-O</td>\n",
       "    </tr>\n",
       "    <tr>\n",
       "      <th>7755569</th>\n",
       "      <td>YNL067W</td>\n",
       "      <td>CWJSHJJYOPWUGX-UHFFFAOYSA-N</td>\n",
       "    </tr>\n",
       "    <tr>\n",
       "      <th>7755570</th>\n",
       "      <td>YNL067W</td>\n",
       "      <td>IZUPBVBPLAPZRR-UHFFFAOYSA-N</td>\n",
       "    </tr>\n",
       "    <tr>\n",
       "      <th>7755571</th>\n",
       "      <td>YNL067W</td>\n",
       "      <td>VHKXXVVRRDYCIK-UHFFFAOYSA-N</td>\n",
       "    </tr>\n",
       "    <tr>\n",
       "      <th>7755572</th>\n",
       "      <td>YNL067W</td>\n",
       "      <td>IGFHQQFPSIBGKE-UHFFFAOYSA-N</td>\n",
       "    </tr>\n",
       "  </tbody>\n",
       "</table>\n",
       "<p>39631 rows × 2 columns</p>\n",
       "</div>"
      ],
      "text/plain": [
       "             orf                   inchiKey_y\n",
       "0        YOR317W  FBOZXECLQNJBKD-UHFFFAOYSA-N\n",
       "1        YOR317W  XRECTZIEBJDKEO-UHFFFAOYSA-N\n",
       "2        YOR317W  XTPOJZQDRYWGAK-UHFFFAOYSA-P\n",
       "4        YOR317W  ZPFXAOWNKLFJDN-UHFFFAOYSA-N\n",
       "5        YOR317W  RYHCACJBKCOBTJ-UHFFFAOYSA-N\n",
       "...          ...                          ...\n",
       "7755568  YNL067W  FNPHNLNTJNMAEE-UHFFFAOYSA-O\n",
       "7755569  YNL067W  CWJSHJJYOPWUGX-UHFFFAOYSA-N\n",
       "7755570  YNL067W  IZUPBVBPLAPZRR-UHFFFAOYSA-N\n",
       "7755571  YNL067W  VHKXXVVRRDYCIK-UHFFFAOYSA-N\n",
       "7755572  YNL067W  IGFHQQFPSIBGKE-UHFFFAOYSA-N\n",
       "\n",
       "[39631 rows x 2 columns]"
      ]
     },
     "execution_count": 23,
     "metadata": {},
     "output_type": "execute_result"
    }
   ],
   "source": [
    "resultados_4"
   ]
  },
  {
   "cell_type": "code",
   "execution_count": 24,
   "id": "eef810aa",
   "metadata": {},
   "outputs": [],
   "source": [
    "results = pandas.read_csv('missing_list.csv')\n",
    "filtro_genes_1 = pandas.read_csv(\"yeast.genes.list\",sep='\\t')\n",
    "filtro_genes_2 = pandas.read_csv(\"tryp.genes.list\",sep='\\t')\n",
    "filtro_genes_3 = pipeline_functions.leer_tabla_columnas('tbr.essentialOrthologs.list',',')             "
   ]
  },
  {
   "cell_type": "code",
   "execution_count": 25,
   "id": "1f8bcb5c",
   "metadata": {},
   "outputs": [],
   "source": [
    "df1 = pandas.merge(results, filtro_genes_1,'inner', left_on='orf',right_on='gene_name')\n",
    "df2 = pandas.merge(df1, filtro_genes_2,'inner', left_on='omcl_x',right_on='omcl')\n",
    "df3a = df2.loc[(df2['species_code_y'] == 'tcr')]\n",
    "df3b = df2.loc[(df2['species_code_y'] == 'tcr.dm28')]\n",
    "df3 = pandas.concat([df3a,df3b],sort = False)\n",
    "df3.to_csv('genes_info.csv')"
   ]
  },
  {
   "cell_type": "markdown",
   "id": "ef07ad55",
   "metadata": {},
   "source": [
    "# Compounds filtering"
   ]
  },
  {
   "cell_type": "code",
   "execution_count": 26,
   "id": "2bf799e5",
   "metadata": {},
   "outputs": [],
   "source": [
    "# Select commercially available compounds\n",
    "resultado_filtro_compuestos_1 = pipeline_functions.interseccion_datos(gdi_inchikey,filtro_compuestos_2,'inchiKey','inchikey','Disponibilidad comercial','inchiKey')\n",
    "resultado_compuestos_1 = resultado_filtro_compuestos_1[0]\n",
    "resultado_compuestos_1 = resultado_compuestos_1[['orf','inchiKey','smiles']]\n",
    "resultado_compuestos_1 = resultado_compuestos_1.drop_duplicates()\n",
    "resultado_compuestos_1 = resultado_compuestos_1.dropna()"
   ]
  },
  {
   "cell_type": "code",
   "execution_count": 27,
   "id": "e96431b6",
   "metadata": {},
   "outputs": [],
   "source": [
    "# Select drug like and lead like compounds\n",
    "resultado_filtro_compuestos_2 = pipeline_functions.drug_likness(resultado_compuestos_1,'smiles')\n",
    "resultado_compuestos_2 = resultado_filtro_compuestos_2[0]\n",
    "resultado_compuestos_2 = resultado_compuestos_2[['orf','inchiKey','smiles']]\n",
    "resultado_compuestos_2 = resultado_compuestos_2.drop_duplicates()\n",
    "resultado_compuestos_2 = resultado_compuestos_2.dropna()"
   ]
  },
  {
   "cell_type": "code",
   "execution_count": 28,
   "id": "37e5c3ec",
   "metadata": {},
   "outputs": [],
   "source": [
    "# Set promiscuity threshold\n",
    "umbral=20\n",
    "drug_count = resultado_filtro_compuestos_2[0].groupby('inchiKey').nunique()\n",
    "drug_count = drug_count.sort_values(by=['orf'])\n",
    "drug_count = drug_count[drug_count['orf']<umbral]\n",
    "drug_count = drug_count.unstack(level=-1).reset_index().drop('level_0', axis=1)\n",
    "drug_count = drug_count.drop_duplicates()\n",
    "\n",
    "drug_selection = pandas.merge(left=gdi_inchikey,right=drug_count,how=\"inner\",left_on=['inchiKey'], right_on=['inchiKey'])"
   ]
  },
  {
   "cell_type": "code",
   "execution_count": 29,
   "id": "e3f895e6",
   "metadata": {},
   "outputs": [],
   "source": [
    "#Create a df with deleted data\n",
    "not_selected_compounds = pandas.concat([resultado_filtro_compuestos_1[1], resultado_filtro_compuestos_2[1]], ignore_index=False)"
   ]
  },
  {
   "cell_type": "markdown",
   "id": "c09089a6",
   "metadata": {},
   "source": [
    "# Analysis of compounds filter"
   ]
  },
  {
   "cell_type": "code",
   "execution_count": 30,
   "id": "3b7dea51",
   "metadata": {},
   "outputs": [],
   "source": [
    "resultados_1 = pipeline_functions.interseccion_datos(gdi_inchikey,resultado_compuestos_1,'inchiKey','inchiKey','Merged data','inchiKey')"
   ]
  },
  {
   "cell_type": "code",
   "execution_count": 31,
   "id": "7f9b1092",
   "metadata": {},
   "outputs": [],
   "source": [
    "resultados_1 = resultados_1[0]\n",
    "resultados_1 = resultados_1[['orf_y','inchiKey']]\n",
    "resultados_1 = resultados_1.drop_duplicates()\n",
    "resultados_1 = resultados_1.dropna()"
   ]
  },
  {
   "cell_type": "code",
   "execution_count": 32,
   "id": "83b0fff4",
   "metadata": {},
   "outputs": [
    {
     "name": "stdout",
     "output_type": "stream",
     "text": [
      "5220\n",
      "1195\n"
     ]
    }
   ],
   "source": [
    "resultados_1\n",
    "print(len(resultados_1['orf_y'].unique()))\n",
    "print(len(resultados_1['inchiKey'].unique()))"
   ]
  },
  {
   "cell_type": "code",
   "execution_count": 33,
   "id": "18d852b1",
   "metadata": {},
   "outputs": [],
   "source": [
    "resultados_2 = pipeline_functions.interseccion_datos(gdi_inchikey,resultado_compuestos_2,'inchiKey','inchiKey','Merged data','inchiKey')"
   ]
  },
  {
   "cell_type": "code",
   "execution_count": 34,
   "id": "63f758fd",
   "metadata": {},
   "outputs": [],
   "source": [
    "resultados_2 = resultados_2[0]\n",
    "resultados_2 = resultados_2[['orf_y','inchiKey']]\n",
    "resultados_2 = resultados_2.drop_duplicates()\n",
    "resultados_2 = resultados_2.dropna()"
   ]
  },
  {
   "cell_type": "code",
   "execution_count": 35,
   "id": "de5be725",
   "metadata": {},
   "outputs": [
    {
     "name": "stdout",
     "output_type": "stream",
     "text": [
      "5115\n",
      "1126\n"
     ]
    }
   ],
   "source": [
    "resultados_2\n",
    "print(len(resultados_2['orf_y'].unique()))\n",
    "print(len(resultados_2['inchiKey'].unique()))"
   ]
  },
  {
   "cell_type": "code",
   "execution_count": 36,
   "id": "450ac7c6",
   "metadata": {},
   "outputs": [],
   "source": [
    "resultados_3 = pipeline_functions.interseccion_datos(gdi_inchikey,drug_selection,'inchiKey','inchiKey','Merged data','inchiKey')"
   ]
  },
  {
   "cell_type": "code",
   "execution_count": 37,
   "id": "4177252b",
   "metadata": {},
   "outputs": [],
   "source": [
    "resultados_3 = resultados_3[0]\n",
    "resultados_3 = resultados_3[['orf_y','inchiKey']]\n",
    "resultados_3 = resultados_3.drop_duplicates()\n",
    "resultados_3 = resultados_3.dropna()"
   ]
  },
  {
   "cell_type": "code",
   "execution_count": 38,
   "id": "500e0ba2",
   "metadata": {},
   "outputs": [
    {
     "name": "stdout",
     "output_type": "stream",
     "text": [
      "310\n",
      "745\n"
     ]
    }
   ],
   "source": [
    "resultados_3\n",
    "print(len(resultados_3['orf_y'].unique()))\n",
    "print(len(resultados_3['inchiKey'].unique()))"
   ]
  },
  {
   "cell_type": "code",
   "execution_count": 39,
   "id": "a5fd8cc4",
   "metadata": {},
   "outputs": [],
   "source": [
    "#gdi = pandas.read_csv(in_file,sep='\\t')\n",
    "df4 = pandas.merge(gdi, df3,'inner', left_on='inchiKey',right_on='inchiKey')\n",
    "#df4 = pandas.merge(results, df3,'inner', left_on='inchiKey',right_on='inchiKey')\n",
    "#results\n",
    "df4.to_csv('cmp_info.csv')"
   ]
  },
  {
   "cell_type": "markdown",
   "id": "aad76d5f",
   "metadata": {},
   "source": [
    "# Data merge"
   ]
  },
  {
   "cell_type": "code",
   "execution_count": 40,
   "id": "0a0b4ad0",
   "metadata": {},
   "outputs": [],
   "source": [
    "resultados = pipeline_functions.interseccion_datos(drug_selection,gene_selection,'inchiKey','inchiKey','Merged data','inchiKey')"
   ]
  },
  {
   "cell_type": "code",
   "execution_count": 41,
   "id": "b2341855",
   "metadata": {},
   "outputs": [],
   "source": [
    "resultados_selección = resultados[0]\n",
    "resultados_selección = resultados_selección[['orf_x','inchiKey']]\n",
    "resultados_selección = resultados_selección .rename(columns={'orf_x':'orf'}) \n",
    "resultados_selección = resultados_selección.drop_duplicates()\n",
    "resultados_selección = resultados_selección.dropna()"
   ]
  },
  {
   "cell_type": "code",
   "execution_count": 42,
   "id": "01f3e0db",
   "metadata": {},
   "outputs": [],
   "source": [
    "resultados_selección.to_csv('gdi_results.csv')"
   ]
  },
  {
   "cell_type": "code",
   "execution_count": 43,
   "id": "907ad2fe",
   "metadata": {},
   "outputs": [],
   "source": [
    "not_selected_data = pandas.concat([resultados[1], not_selected_genes, not_selected_compounds], ignore_index=False)"
   ]
  },
  {
   "cell_type": "code",
   "execution_count": 44,
   "id": "71bfd48b",
   "metadata": {},
   "outputs": [],
   "source": [
    "not_selected_data = not_selected_data[['inchiKey','orf','Filter Name']]"
   ]
  },
  {
   "cell_type": "code",
   "execution_count": 45,
   "id": "8221bff8",
   "metadata": {},
   "outputs": [],
   "source": [
    "not_selected_data.to_csv('gdi_not_selected_data.csv')"
   ]
  }
 ],
 "metadata": {
  "kernelspec": {
   "display_name": "Python 3 (ipykernel)",
   "language": "python",
   "name": "python3"
  },
  "language_info": {
   "codemirror_mode": {
    "name": "ipython",
    "version": 3
   },
   "file_extension": ".py",
   "mimetype": "text/x-python",
   "name": "python",
   "nbconvert_exporter": "python",
   "pygments_lexer": "ipython3",
   "version": "3.9.15"
  }
 },
 "nbformat": 4,
 "nbformat_minor": 5
}
